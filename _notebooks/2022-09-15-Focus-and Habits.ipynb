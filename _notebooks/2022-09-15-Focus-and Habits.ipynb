{
 "cells": [
  {
   "cell_type": "markdown",
   "metadata": {},
   "source": [
    "# Focus and Habits\n",
    "> Psychology and the Good Life, by Laurie Santos\n",
    "\n",
    "- toc: true \n",
    "- badges: true\n",
    "- comments: true\n",
    "- sticky_rank: 1\n",
    "- author: Haeryn Yu\n",
    "- image: images/diagram.png\n",
    "- categories: [fastpages, jupyter, notes, week4]"
   ]
  },
  {
   "cell_type": "markdown",
   "metadata": {},
   "source": [
    "## Important Points\n",
    "\n",
    "- We are not stuck at a certain spot, and the things can be improved. We can control a lot more of our happiness.\n",
    "- Taking control of our life is very difficult sometimes, and we should not undermine ourselves if we fail\n",
    "- Do not rely on what single thing to achieve happiness, for example, lottery wins are not as important and only affect a small part of us, compared to what we think\n",
    "- Happiness is achieved not a single moment, but multiples things that build up to another\n",
    "- Friendships and being social is a very important part of daily life as well as helping others and being grateful towards them\n",
    "- Have self-care and care for yourself, exercise and do something good for your own well being\n",
    "- Be patient and be present in the moment, realize that we are staring at our phones and we should look up and enjoy our lives as they are right now"
   ]
  },
  {
   "cell_type": "markdown",
   "metadata": {},
   "source": [
    "## Gratitude List\n",
    "\n",
    "Things I am very grateful for:\n",
    "\n",
    "- my family for always being there for me\n",
    "- food and water that I eat every day\n",
    "- going to school everyday\n",
    "- being healthy and able to move and exercise\n",
    "- my friends and places I go with them"
   ]
  },
  {
   "cell_type": "markdown",
   "metadata": {},
   "source": [
    "### Gratitude to my Friend\n",
    "\n",
    "A message I wrote to them: \"Thank you so much for being my friend for such long time and putting up with me everyday. You are such a kind and beautiful person and you mean so much to me.\""
   ]
  },
  {
   "cell_type": "markdown",
   "metadata": {},
   "source": [
    "### Gratitude to someone at home\n",
    "\n",
    "A message I wrote to my parents: \"Thank you for being there everyday for me and taking care of me everyday. I am so grateful for having parents like you and you are so amazing and inspirational and my role models. I hope you live for a very long time so I will be able to help you like you help me everyday. I love you.\" "
   ]
  },
  {
   "cell_type": "markdown",
   "metadata": {},
   "source": [
    "## Goals\n",
    "\n",
    "- Academic: I want to be productive and hard-working through my whole career, and I hope I study things without getting distracted. I will maintain my health while studying and work hard. \n",
    "- Personal Life: I want to maintain my mental and physical health and care more about myself than others. I want to do things I enjoy and pursue my interests instead of others. \n",
    "- Social Life: I want to keep in touch with my family and call my family who lives in Korea every week. I hope I don't drift from my friends and enjoy my time with my family and friends."
   ]
  },
  {
   "cell_type": "markdown",
   "metadata": {},
   "source": [
    "### Personal Journey in CSP\n",
    "\n",
    "I want to learn more about coding in different languages like Python, Java, and maybe C++. I also want to successfully finish my project for this class. "
   ]
  },
  {
   "cell_type": "markdown",
   "metadata": {},
   "source": [
    "### Things I did for myself\n",
    "\n",
    "On Saturday, my family and I drove to LA to eat out to my family's favorite place. It has been a long time since we have done this and it was a great way to catch up with each other's life and enjoy each other's presence while having a delicious food. I enjoy being with a lot of people and this really helped me distress over school and other things. "
   ]
  }
 ],
 "metadata": {
  "kernelspec": {
   "display_name": "Python 3.8.10 64-bit",
   "language": "python",
   "name": "python3"
  },
  "language_info": {
   "name": "python",
   "version": "3.8.10"
  },
  "orig_nbformat": 4,
  "vscode": {
   "interpreter": {
    "hash": "916dbcbb3f70747c44a77c7bcd40155683ae19c65e1c03b4aa3499c5328201f1"
   }
  }
 },
 "nbformat": 4,
 "nbformat_minor": 2
}
