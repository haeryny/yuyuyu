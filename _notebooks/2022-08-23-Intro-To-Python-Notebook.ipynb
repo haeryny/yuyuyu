{
 "cells": [
  {
   "cell_type": "markdown",
   "metadata": {},
   "source": [
    "# Intro to Python Notebook\n",
    "> This is the quiz that I made using the vocabulary from the Jupyter notebook.\n",
    "\n",
    "- toc: true \n",
    "- badges: true\n",
    "- comments: true\n",
    "- sticky_rank: 1\n",
    "- author: Haeryn Yu\n",
    "- image: images/diagram.png\n",
    "- categories: [fastpages, jupyter, notes, week1]"
   ]
  },
  {
   "cell_type": "code",
   "execution_count": 4,
   "metadata": {},
   "outputs": [
    {
     "name": "stdout",
     "output_type": "stream",
     "text": [
      "Hello, haeryny running /bin/python3\n",
      "What is your name?\n",
      "Hi Haeryn\n",
      "You will be asked 6 questions.\n",
      "Question: 1. What command is used to output a message?\n",
      "print is correct!\n",
      "Question: 2. What is the word in Python that defines a function?\n",
      "def is correct!\n",
      "Question: 3. How do you access vscode through a terminal?\n",
      "code . is correct!\n",
      "Question: 4. What is your Teacher's name?\n",
      "Mr. Yeung is correct!\n",
      "Question: 5. What language are we learning?\n",
      "python is correct!\n",
      "Question: 6. What period do you have APCSP?\n",
      "4 is correct!\n",
      "4 is incorrect!\n",
      "Haeryn you scored 6/6\n"
     ]
    }
   ],
   "source": [
    "import getpass, sys\n",
    "\n",
    "def question_with_response(prompt): \n",
    "    print(\"Question: \" + prompt)\n",
    "    msg = input()\n",
    "    return msg\n",
    "\n",
    "questions = 6\n",
    "correct = 0\n",
    "\n",
    "print('Hello, ' + getpass.getuser() + \" running \" + sys.executable)\n",
    "\n",
    "#This command asks for your name and also introduces you on how to input a message.\n",
    "print(\"What is your name?\")\n",
    "msg = input(\"My name is: \")\n",
    "print(\"Hi \" + msg)\n",
    "\n",
    "print(\"You will be asked \" + str(questions) + \" questions.\")\n",
    "question_and_answer = (\"Are you ready to take a test?\")\n",
    "\n",
    "questionsType = [\"1. What command is used to output a message?\", \"2. What is the word in Python that defines a function?\", \"3. How do you access vscode through a terminal?\", \"4. What is your Teacher's name?\", \"5. What language are we learning?\", \"6. What period do you have APCSP?\"]\n",
    "answersType = [\"print\", \"def\", \"code .\", \"Mr. Yeung\", \"python\", \"4\"]\n",
    "\n",
    "#I am using the for loop\n",
    "for i in range(0, 6):\n",
    "    rsp = question_with_response(questionsType[i])\n",
    "    if rsp == answersType[i]:\n",
    "        print(rsp + \" is correct!\")\n",
    "    correct += 1\n",
    "else:\n",
    "    print(rsp + \" is incorrect!\")\n",
    "\n",
    "#This calculates and tells you your score. \n",
    "print(msg + \" you scored \" + str(correct) +\"/\" + str(questions))"
   ]
  }
 ],
 "metadata": {
  "kernelspec": {
   "display_name": "Python 3.8.10 64-bit",
   "language": "python",
   "name": "python3"
  },
  "language_info": {
   "codemirror_mode": {
    "name": "ipython",
    "version": 3
   },
   "file_extension": ".py",
   "mimetype": "text/x-python",
   "name": "python",
   "nbconvert_exporter": "python",
   "pygments_lexer": "ipython3",
   "version": "3.8.10 (default, Jun 22 2022, 20:18:18) \n[GCC 9.4.0]"
  },
  "orig_nbformat": 4,
  "vscode": {
   "interpreter": {
    "hash": "916dbcbb3f70747c44a77c7bcd40155683ae19c65e1c03b4aa3499c5328201f1"
   }
  }
 },
 "nbformat": 4,
 "nbformat_minor": 2
}
