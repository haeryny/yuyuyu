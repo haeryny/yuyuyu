{
 "cells": [
  {
   "cell_type": "markdown",
   "metadata": {},
   "source": [
    "# 4.1 Notes\n",
    "> Notes on Internet\n",
    "\n",
    "- toc: true \n",
    "- badges: true\n",
    "- comments: true\n",
    "- sticky_rank: 1\n",
    "- author: Haeryn Yu\n",
    "- image: images/diagram.png\n",
    "- categories: [fastpages, jupyter, notes, week8]"
   ]
  },
  {
   "cell_type": "markdown",
   "metadata": {},
   "source": [
    "## Video 1\n",
    "\n",
    "### Learning Objective\n",
    "Explain how computing devices work together in a network. \n",
    "\n",
    "### Essential Knowledge \n",
    "- A computing device is a physical artifact that can run a program. Some examples include include computers, tablets, servers, routers, and smart sensors. \n",
    "- A computing system is a group of computing devices and programs working together for a common purpose\n",
    "- A computer network is a group of interconnected computing devices capable of sending or receiving data\n",
    "- A computer network is a type of computing system\n",
    "- A path between two computing devices on a computer network is a sequence of directly connect computing devices that begins at the sender and ends at the receiver\n",
    "- The bandwidth of a computer network is the maximum amount of data that can be sent in a fixed amount of time\n",
    "- Bandwidth is usually measured in bits per second\n",
    "\n",
    "Computers are capable of sending and receiving data. A packet is a small amount of data sent over a network. Each packet also includes the source and the destination information. \n",
    "\n",
    "A computer system is a group of computing devices and programs working together for joint purpose. A computer network is a group of interconnected computing devices capable of sending or receiving data. \n",
    "\n",
    "A path between two computing devices on a computer network (a sender and a receiver) is a sequence of directly connected computing devices that begins at the sender and ends at the receiver. Routing is the process of finding a path from sender to receiver.\n",
    "\n",
    "A bandwidth is the maximum amount of data that can be sent in a fixed amount of time on a computer network. Bandwidth is typically measured in bits per second.\n",
    "\n",
    "## Video 2\n",
    "\n",
    "### Learning Objective\n",
    "Explain how the internet works, explain how data are sent through the internet via packets, and describe the differences between the Internet and the World Wide Web. \n",
    "\n",
    "### Essential Knowledge\n",
    "- The internet is a computer network consisting of interconnected networks that use standardized, open (nonproprietary) communication protocols.\n",
    "- Access to the internet depends on the ability to connect a computing device to an internet connected device.\n",
    "- A protocol is an agreed-upon set of rules that specify the behavior of a system.\n",
    "- The protocols used int he internet are open, which allows users to easily connect additional computing devices to the internet.\n",
    "- Routing on the internet is usually dynamic; it is not specified in advance\n",
    "- The scalability of a system is the capacity for hte system to change in size and scale to meet new demands.\n",
    "- The internet was designed to be scalable.\n",
    "- Information is passed through the internet as a data stream. Data streams contain chunks of data, which are encapsulated in packets.\n",
    "- Packets contain a chunk of data and metadata used for routing the packet between the origin and the destination on the Internet, as well as for data reassembly.\n",
    "- Packets may arrive at the destination in order, out of order, or not at all. \n",
    "- IP, TCP, and UDP are common protocols used on the internet.\n",
    "- The World Wide Web is a system of linked pages, programs, and files. \n",
    "- HTTP is a protocol used by the World Wide Web.\n",
    "- The World Wide Web uses the internet\n",
    "\n",
    "A protocol is an agreed-upon set of rules that specify the behavior of a system. OSI (Open Systems Interconnect) The layers you have to go through to communicate. IETF (Internet Engineering Task Force) manages the development of standards and technical discussions concerning the internet in an open and collaborative process. TCP (Transmission Control Protocol) establishes a common standard for how to send messages between devices on the internet. \n",
    "\n",
    "There are many different protocols, standards, data, formats, etc. used at the \"Application\" and \"Transport\" layers. There are many different protocols and hardware used at the Network Access Layer. Ethernet, WIFI, Cable, Fiber Optics (e.g. Verizon FIOS), etc. \n",
    "\n",
    "They meet in the middle at the \"Internet\" layer where you use Internet Protocol (IP) Addresses (OSI Level 3). IP Addressing is the common link, and  relatively simple. "
   ]
  },
  {
   "cell_type": "markdown",
   "metadata": {},
   "source": [
    "### Diagram\n",
    "This is the diagram I made. \n",
    "\n",
    "![](network_diagram.png)"
   ]
  }
 ],
 "metadata": {
  "kernelspec": {
   "display_name": "Python 3.8.10 64-bit",
   "language": "python",
   "name": "python3"
  },
  "language_info": {
   "name": "python",
   "version": "3.8.10 (default, Jun 22 2022, 20:18:18) \n[GCC 9.4.0]"
  },
  "orig_nbformat": 4,
  "vscode": {
   "interpreter": {
    "hash": "916dbcbb3f70747c44a77c7bcd40155683ae19c65e1c03b4aa3499c5328201f1"
   }
  }
 },
 "nbformat": 4,
 "nbformat_minor": 2
}
