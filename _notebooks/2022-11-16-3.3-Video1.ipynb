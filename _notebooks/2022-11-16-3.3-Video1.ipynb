{
 "cells": [
  {
   "cell_type": "markdown",
   "metadata": {},
   "source": [
    "# 3.3 Notes\n",
    "> \n",
    "\n",
    "- toc: true \n",
    "- badges: true\n",
    "- comments: true\n",
    "- sticky_rank: 1\n",
    "- author: Haeryn Yu\n",
    "- image: images/diagram.png\n",
    "- categories: [fastpages, jupyter, notes, week8]"
   ]
  },
  {
   "cell_type": "markdown",
   "metadata": {},
   "source": [
    "## Video 1\n",
    "\n",
    "### Learning Objective\n",
    "Express an algorithm that uses sequencing without using a programming language\n",
    "\n",
    "### Essential Knowledge\n",
    "- Algorithms can be expressed in a variety of ways and can be executed by programs which are implemented using programming languages. \n",
    "- Every algorithm can be constructed using combinations of sequencing, selection, and iteration\n",
    "\n",
    "An algorithm is a finite set of instructions that accomplish a specific task, us as humans, do algorithms on a daily basis. \n",
    "\n",
    "Sequencing is doing steps in order, for example, doing the first step then the second then the third, etc. \n",
    "\n",
    "Selection is when the programmer decides between two different outcomes. \n",
    "\n",
    "Iteration is when you have to repeat a step until that condition is fulfilled. \n",
    "\n",
    "### Examples\n",
    "\n",
    "Most algorithms use a flow chart to demonstrate how the algorithm proceeds. \n",
    "\n",
    "1. Set largestNumber to 0\n",
    "2. Get next number in list\n",
    "3. If number is larger than largestNumber then set largestNumber to number\n",
    "4. If there are more numbers in list, go back to Step 2\n",
    "5. Display largestNumber\n",
    "\n",
    "Sequencing: Steps 1-5 in order\n",
    "\n",
    "Selection: Step 3\n",
    "\n",
    "Iteration: Step 4 \n",
    "\n"
   ]
  },
  {
   "cell_type": "code",
   "execution_count": 2,
   "metadata": {},
   "outputs": [
    {
     "name": "stdout",
     "output_type": "stream",
     "text": [
      "[0, 2, 4, 6, 8, 10]\n"
     ]
    }
   ],
   "source": [
    "#These are all the steps that the computer goes through so this is sequencing\n",
    "\n",
    "numbers = [0,1,2,3,4,5,6,7,8,9,10]\n",
    "evens = []\n",
    "\n",
    "# This is selection where they go through the numbers and decide whether if it is even or not. \n",
    "for i in numbers:\n",
    "    # This is iteration because they repeat the steps until they go through all the numbers in the list. \n",
    "    if (numbers[i] % 2 == 0):\n",
    "        evens.append(numbers[i])\n",
    "\n",
    "print(evens)"
   ]
  },
  {
   "cell_type": "markdown",
   "metadata": {},
   "source": [
    "show two examples and label which one is sequence, selection, iteration"
   ]
  },
  {
   "cell_type": "code",
   "execution_count": null,
   "metadata": {},
   "outputs": [],
   "source": [
    "# The objective is to make a pyramid of stars\n",
    "# This is the sequence\n",
    "i = 1\n",
    "starString = \"*\"\n",
    "# This is iteration because they repeat until i reaches 5\n",
    "while i <= 5:\n",
    "  j = 1\n",
    "  # This is the selection where they decide what j is\n",
    "  while j <= i:\n",
    "    print (\"*\", end= \"\")\n",
    "    j += 1\n",
    "  print ()\n",
    "  i += 1"
   ]
  }
 ],
 "metadata": {
  "kernelspec": {
   "display_name": "webapp",
   "language": "python",
   "name": "python3"
  },
  "language_info": {
   "codemirror_mode": {
    "name": "ipython",
    "version": 3
   },
   "file_extension": ".py",
   "mimetype": "text/x-python",
   "name": "python",
   "nbconvert_exporter": "python",
   "pygments_lexer": "ipython3",
   "version": "3.8.10 (default, Jun 22 2022, 20:18:18) \n[GCC 9.4.0]"
  },
  "orig_nbformat": 4,
  "vscode": {
   "interpreter": {
    "hash": "18e306404648cf2c449fb2f469ee0a6715ef129dfefb1dd4a8e73ba6d1311c97"
   }
  }
 },
 "nbformat": 4,
 "nbformat_minor": 2
}
