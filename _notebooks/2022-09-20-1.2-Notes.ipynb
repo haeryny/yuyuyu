{
 "cells": [
  {
   "cell_type": "markdown",
   "metadata": {},
   "source": [
    "# 1.2 Notes\n",
    "> Notes on Collaboration\n",
    "\n",
    "- toc: true \n",
    "- badges: true\n",
    "- comments: true\n",
    "- sticky_rank: 1\n",
    "- author: Haeryn Yu\n",
    "- image: images/diagram.png\n",
    "- categories: [fastpages, jupyter, notes, week5]"
   ]
  },
  {
   "cell_type": "markdown",
   "metadata": {},
   "source": [
    "## Video 1"
   ]
  },
  {
   "cell_type": "markdown",
   "metadata": {},
   "source": [
    "### Learning Objectives\n",
    "- Describe the purpose of a computing innovation\n",
    "\n",
    "### Essential Knowledge\n",
    "- The purpose of computing innovations is to solve problems or to pursue interests through creative expression.\n",
    "- An understanding of the purpose of a computing innovation provides developers with an improved ability to develop that computing innovation\n",
    "\n",
    "#### Computing Innovations\n",
    "Applications\n",
    "- Games\n",
    "- Social Media\n",
    "- Business\n",
    "- Productivity\n",
    "\n",
    "Physical Devices\n",
    "- Computers\n",
    "- Smart Phones\n",
    "- Wearables\n",
    "\n",
    "Systems\n",
    "- E-commerce\n",
    "- Cloud Services\n",
    "\n",
    "#### Investigate Questions of Computing Innovations\n",
    "- Why does the computing innovation exist? \n",
    "- What problems does the computing innovation solve?\n",
    "- What does the computing innovation allow us to do that we could not do before?\n",
    "\n",
    "##### Examples\n",
    "- Social Media Applications\n",
    "    - Allows users to connect from a distance and archive their activities\n",
    "- E-commerce\n",
    "    - Allows users to save time and money by being able to shop from home\n",
    "- Digital Assistant Device\n",
    "    - Allows users to control their devices hands-free, making them safer while driving or more convenient when trying to multitask"
   ]
  },
  {
   "cell_type": "markdown",
   "metadata": {},
   "source": [
    "# Video 2"
   ]
  },
  {
   "cell_type": "markdown",
   "metadata": {},
   "source": [
    "## Learning Objectives\n",
    "- Identify inputs to a program\n",
    "- Identify outputs to a program\n",
    "\n",
    "## Essential Knowledge\n",
    "- Program inputs are data sent to a computer for processing by a program. Input can come in a variety of forms, such as tactile, audio, visual, or text. \n",
    "-  An event is associated with an action and supplies input data to a program\n",
    "- Events can be generated when a key is pressed, a mouse is clicked, a program is started, or any other defined action occurs that affects the flow of execution\n",
    "- Inputs usually affect the output produced by a program\n",
    "\n",
    "### Identifying Inputs to Programs\n",
    "Computer programs accept input ina  variety of different forms:\n",
    "- tactile\n",
    "- audio\n",
    "- visual\n",
    "- text\n",
    "\n",
    "### How do programs receive input?\n",
    "Most programs are written in an event driven environment, events are triggered by some action, which usually sends input to the program. \n",
    "\n",
    "What type of events can a user trigger?\n",
    "- mouse clicks\n",
    "- screen taps/swipes\n",
    "- physical button clicks\n",
    "- keyboard entries\n",
    "- audio trigger\n",
    "\n"
   ]
  },
  {
   "cell_type": "markdown",
   "metadata": {},
   "source": [
    "# Video 3"
   ]
  },
  {
   "cell_type": "markdown",
   "metadata": {},
   "source": [
    "## Learning Objectives\n",
    "- Explain how a program or code segment functions\n",
    "\n",
    "## Essential Knowledge\n",
    "- A program is a collection of program statements that performs a specific task when run by a computer. A program is often referred to as software. \n",
    "- A code segment is a collection of program statements that is part of a program. \n",
    "- A program needs to work for a variety of inputs and situations. \n",
    "- The behavior of a program is how a program functions during execution and is often described by how a user interacts with it. \n",
    "- A program can be described broadly by what it does, or in more detail by both what the program does and how the program statements accomplish this function. \n",
    "\n",
    "### What is a program?\n",
    "A program is a collection of statements. \n",
    "- A statement is a single command\n",
    "- A group of statements is called a code segment\n",
    "- Code segments are executed according to the rules of the programming language\n",
    "- A program is often referred to as software\n",
    "\n",
    "### What does this program do?\n",
    "This code segment is written to find the minimum value in a list\n",
    "- This code segment would need to work for a variety of different lists, like lists that include:\n",
    "    - Numbers out of order\n",
    "    - Negative numbers\n",
    "    - Large numbers\n",
    "    - Decimals\n",
    "- This code segment could be inserted into a larger program.\n",
    "\n",
    "### How can we describe this code segment?\n",
    "- Do what it is told\n",
    "    - So that someone could use the code segment in a larger program\n",
    "- Or include how it does what it does:\n",
    "    - by explaining in detail how the code segment functions\n",
    "    - so that someone could expand upon the code segment"
   ]
  },
  {
   "cell_type": "markdown",
   "metadata": {},
   "source": [
    "# Hacks\n",
    "- Do we have final project ideas for a PBL Web Project?\n",
    "    - I am thinking of doing a project with my group, and it is about designing an app that plans and schedules events for you. \n",
    "- Are we considering a project that is best for our educational purpose?\n",
    "    - Yes, it is similar to a planner and the motive is to help people stay organized. \n",
    "- Is the project going to hold team members interest for 8 weeks?\n",
    "    - Yes, it is. \n",
    "- Does the project have potential for someone to use it beyond the 8 weeks? ie Customer or Sponsor needed?\n",
    "    - Yes, this project can be used year-long even and can last a long time. \n",
    "- Does the project have potential to be used for Create Performance Task submission?\n",
    "    - Yes, it does have potential. "
   ]
  }
 ],
 "metadata": {
  "kernelspec": {
   "display_name": "Python 3.8.10 64-bit",
   "language": "python",
   "name": "python3"
  },
  "language_info": {
   "name": "python",
   "version": "3.8.10"
  },
  "orig_nbformat": 4,
  "vscode": {
   "interpreter": {
    "hash": "916dbcbb3f70747c44a77c7bcd40155683ae19c65e1c03b4aa3499c5328201f1"
   }
  }
 },
 "nbformat": 4,
 "nbformat_minor": 2
}
