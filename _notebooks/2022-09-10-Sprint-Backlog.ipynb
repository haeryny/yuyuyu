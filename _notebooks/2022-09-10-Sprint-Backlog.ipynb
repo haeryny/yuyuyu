{
 "cells": [
  {
   "cell_type": "markdown",
   "metadata": {},
   "source": [
    " Sprint Backlog\n",
    "> Planning for AP Computer Science Principles\n",
    "\n",
    "- toc: true \n",
    "- badges: true\n",
    "- comments: true\n",
    "- sticky_rank: 1\n",
    "- author: Haeryn Yu\n",
    "- image: images/diagram.png\n",
    "- categories: [fastpages, jupyter, notes, week3]"
   ]
  },
  {
   "cell_type": "markdown",
   "metadata": {},
   "source": [
    "### AP Computer Science Exam\n",
    "\n",
    "- There is two parts to the exam, which are the MC and the project/Performance Task. The Performance Task is started from the beginning of the year and is due on the day of the AP Exam. The MC is 2 hours for 70 MC."
   ]
  },
  {
   "cell_type": "markdown",
   "metadata": {},
   "source": [
    "### MC Exam\n",
    "\n",
    "- Takes notes from the college board videos, and if you have questions, look it up on Khan Academy and as well as finish the curriculum for Khan Academy.\n",
    "- Practice the quizzes the practice tests, try to figure out how to use more time more efficiently and quickly on them as well as figure out how you got certain questions wrong. \n",
    "- Time yourself throughout tests. The ones in class consisted of 50 questions. Give yourself an hour or an hour and a half to complete all 50 questions once you've gotten the swing of the first few practice exams. You'll be able to pace yourself better and work under pressure with this.\n",
    "- Also do the practices and practice tests on Khan Academy to help with learning more efficiently for the MC Exam."
   ]
  },
  {
   "cell_type": "markdown",
   "metadata": {},
   "source": [
    "### Performance Task\n",
    "\n",
    "- I have already started on a couple of ideas to use for my performance task, but I will also review the past examples on collegeboard to see what things I should do and I shouldn't do. \n",
    "- Citing sources is very important so I will make a list of sources for each idea\n",
    "- I will review the scoring guidelines and treat it like a rubric as I continue on with my project\n",
    "- Adding comments to the code as I continue to mark my progress and show what my process was while making this. "
   ]
  },
  {
   "cell_type": "markdown",
   "metadata": {},
   "source": [
    "<table>\n",
    "  <tr>\n",
    "   <th>Educational zone</th>\n",
    "   <th>Interest/Fun zone</th>\n",
    "   <th>Blogging and Review zone</th>\n",
    "  </tr>\n",
    "\n",
    "  <tr>\n",
    "    <td>Start Khan Academy Practice starting from Unit 1: Bits and Bites</td>\n",
    "    <td>Work on creating new ideas. Current ideas: Diary/Mood Tracker, Guessing Major Test</td>\n",
    "    <td>N/A</td>\n",
    "  </tr>\n",
    "\n",
    "</table>"
   ]
  }
 ],
 "metadata": {
  "kernelspec": {
   "display_name": "Python 3.8.10 64-bit",
   "language": "python",
   "name": "python3"
  },
  "language_info": {
   "name": "python",
   "version": "3.8.10"
  },
  "orig_nbformat": 4,
  "vscode": {
   "interpreter": {
    "hash": "916dbcbb3f70747c44a77c7bcd40155683ae19c65e1c03b4aa3499c5328201f1"
   }
  }
 },
 "nbformat": 4,
 "nbformat_minor": 2
}
