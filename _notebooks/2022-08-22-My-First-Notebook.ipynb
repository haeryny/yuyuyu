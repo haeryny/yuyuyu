{
 "cells": [
  {
   "cell_type": "markdown",
   "metadata": {},
   "source": [
    "# My First Notebook\n",
    "> This is my first jupyter notebook in APCSP\n",
    "\n",
    "- toc: true \n",
    "- badges: true\n",
    "- comments: true\n",
    "- sticky_rank: 1\n",
    "- author: Haeryn Yu\n",
    "- image: images/diagram.png\n",
    "- categories: [fastpages, jupyter]"
   ]
  },
  {
   "cell_type": "code",
<<<<<<< HEAD
   "execution_count": 1,
=======
   "execution_count": 2,
>>>>>>> 9788545c6d8b28424bfdfdf4cc295f1d39ea40c0
   "metadata": {
    "vscode": {
     "languageId": "shellscript"
    }
   },
   "outputs": [
    {
     "name": "stdout",
     "output_type": "stream",
     "text": [
      "Hello, This is my Jupyter Notebook!\n"
     ]
    }
   ],
   "source": [
    "msg = \"Hello, This is my Jupyter Notebook!\"\n",
    "print(msg)"
   ]
  }
 ],
 "metadata": {
  "kernelspec": {
<<<<<<< HEAD
   "display_name": "Python 3.8.10 64-bit",
=======
   "display_name": "Python 3.10.4 64-bit",
>>>>>>> 9788545c6d8b28424bfdfdf4cc295f1d39ea40c0
   "language": "python",
   "name": "python3"
  },
  "language_info": {
   "codemirror_mode": {
    "name": "ipython",
    "version": 3
   },
   "file_extension": ".py",
   "mimetype": "text/x-python",
   "name": "python",
   "nbconvert_exporter": "python",
   "pygments_lexer": "ipython3",
<<<<<<< HEAD
   "version": "3.8.10"
  },
  "vscode": {
   "interpreter": {
    "hash": "916dbcbb3f70747c44a77c7bcd40155683ae19c65e1c03b4aa3499c5328201f1"
=======
   "version": "3.10.4"
  },
  "vscode": {
   "interpreter": {
    "hash": "39cb07ad701719cc70ce684384fab94d4aeb7006964be56799f6c0dd625c937d"
>>>>>>> 9788545c6d8b28424bfdfdf4cc295f1d39ea40c0
   }
  }
 },
 "nbformat": 4,
 "nbformat_minor": 2
}
