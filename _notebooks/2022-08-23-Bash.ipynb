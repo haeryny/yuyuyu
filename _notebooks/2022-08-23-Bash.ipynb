{
 "cells": [
  {
   "cell_type": "markdown",
<<<<<<< HEAD
   "id": "f8dee486",
=======
>>>>>>> 9788545c6d8b28424bfdfdf4cc295f1d39ea40c0
   "metadata": {},
   "source": [
    "# Bash\n",
    "> Bash in APCSP\n",
    "\n",
    "- toc: true \n",
    "- badges: true\n",
    "- comments: true\n",
    "- sticky_rank: 1\n",
    "- author: Haeryn Yu\n",
    "- image: images/diagram.png\n",
    "- categories: [fastpages, jupyter]"
   ]
  },
  {
   "cell_type": "code",
<<<<<<< HEAD
   "execution_count": 1,
   "id": "86fb928e",
   "metadata": {},
   "outputs": [
    {
     "name": "stdout",
     "output_type": "stream",
     "text": [
      "Navigate to project, then navigate to area wwhere files were cloned\n",
      "/home/haeryny\n",
      "\n",
      "list top level or root of files with project pulled from github\n",
      "\u001b[0m\u001b[01;34manaconda3\u001b[0m  \u001b[01;34mvscode\u001b[0m\n",
      "\n",
      "list again with hidden files pulled from github\n",
      "\u001b[0m\u001b[01;34m.\u001b[0m              .bashrc  .gitconfig  \u001b[01;34m.local\u001b[0m       .profile\n",
      "\u001b[01;34m..\u001b[0m             \u001b[01;34m.cache\u001b[0m   \u001b[01;34m.ipython\u001b[0m    .motd_shown  .sudo_as_admin_successful\n",
      ".bash_history  \u001b[01;34m.conda\u001b[0m   \u001b[01;34m.jupyter\u001b[0m    \u001b[01;34m.node-gyp\u001b[0m    \u001b[01;34manaconda3\u001b[0m\n",
      ".bash_logout   \u001b[01;34m.config\u001b[0m  \u001b[01;34m.landscape\u001b[0m  \u001b[01;34m.npm\u001b[0m         \u001b[01;34mvscode\u001b[0m\n",
      "\n",
      "list all files in long format\n",
      "ls: cannot access 'echo': No such file or directory\n",
      "ls: cannot access 'Using conditional statement to create a project directory and project': No such file or directory\n",
      "Directory /home/haeryny/vscode exists.\n",
      "Directory /home/haeryny/vscode/yuyuyu exists.\n"
     ]
    }
   ],
   "source": [
    "echo \"Navigate to project, then navigate to area wwhere files were cloned\"\n",
    "cd $project\n",
    "pwd\n",
    "\n",
    "echo \"\"\n",
    "echo \"list top level or root of files with project pulled from github\"\n",
    "ls\n",
    "\n",
    "echo \"\"\n",
    "echo \"list again with hidden files pulled from github\"\n",
    "ls -a   \n",
    "\n",
    "echo \"\"\n",
    "echo \"list all files in long format\"\n",
    "ls -al   echo \"Using conditional statement to create a project directory and project\"\n",
=======
   "execution_count": null,
   "metadata": {
    "vscode": {
     "languageId": "shellscript"
    }
   },
   "outputs": [],
   "source": [
    "echo \"Using conditional statement to create a project directory and project\"\n",
>>>>>>> 9788545c6d8b28424bfdfdf4cc295f1d39ea40c0
    "\n",
    "export project_dir=$HOME/vscode  \n",
    "export project=$project_dir/yuyuyu \n",
    "export project_repo=\"https://github.com/haeryny/yuyuyu.git\"  \n",
    "\n",
    "cd ~    \n",
    "\n",
    "if [ ! -d $project_dir ]\n",
    "then \n",
    "    echo \"Directory $project_dir does not exists... makinng directory $project_dir\"\n",
    "    mkdir -p $project_dir\n",
    "fi\n",
    "echo \"Directory $project_dir exists.\" \n",
    "\n",
    "if [ ! -d $project ]\n",
    "then\n",
    "    echo \"Directory $project does not exists... cloning $project_repo\"\n",
    "    cd $project_dir\n",
    "    git clone $project_repo\n",
    "    cd ~\n",
    "fi\n",
    "echo \"Directory $project exists.\""
   ]
  },
  {
   "cell_type": "code",
<<<<<<< HEAD
   "execution_count": 4,
   "id": "6304781c",
   "metadata": {},
   "outputs": [
    {
     "name": "stdout",
     "output_type": "stream",
     "text": [
      "Navigate to project, then navigate to area wwhere files were cloned\n",
      "/home/haeryny/vscode/yuyuyu\n",
      "\n",
      "list top level or root of files with project pulled from github\n",
      "\u001b[0m\u001b[01;35m2022-05-15-07-21-16.png\u001b[0m  \u001b[01;32mREADME.md\u001b[0m        \u001b[01;34m_notebooks\u001b[0m  \u001b[01;34massets\u001b[0m\n",
      "\u001b[01;35m2022-05-15-07-24-25.png\u001b[0m  \u001b[01;34m_action_files\u001b[0m    \u001b[01;34m_pages\u001b[0m      \u001b[01;32mdocker-compose.yml\u001b[0m\n",
      "\u001b[01;35m2022-05-15-07-25-15.png\u001b[0m  _config.yml      \u001b[01;34m_plugins\u001b[0m    \u001b[01;34mimages\u001b[0m\n",
      "\u001b[01;32mGemfile\u001b[0m                  \u001b[01;34m_fastpages_docs\u001b[0m  \u001b[01;34m_posts\u001b[0m      index.html\n",
      "LICENSE                  \u001b[01;34m_includes\u001b[0m        \u001b[01;34m_sass\u001b[0m\n",
      "\u001b[01;32mMakefile\u001b[0m                 \u001b[01;34m_layouts\u001b[0m         \u001b[01;34m_word\u001b[0m\n",
      "\n",
      "list again with hidden files pulled from github\n",
      "\u001b[0m\u001b[01;34m.\u001b[0m                        \u001b[01;32mGemfile\u001b[0m          \u001b[01;34m_pages\u001b[0m\n",
      "\u001b[01;34m..\u001b[0m                       LICENSE          \u001b[01;34m_plugins\u001b[0m\n",
      ".devcontainer.json       \u001b[01;32mMakefile\u001b[0m         \u001b[01;34m_posts\u001b[0m\n",
      "\u001b[01;34m.git\u001b[0m                     \u001b[01;32mREADME.md\u001b[0m        \u001b[01;34m_sass\u001b[0m\n",
      ".gitattributes           \u001b[01;34m_action_files\u001b[0m    \u001b[01;34m_word\u001b[0m\n",
      "\u001b[01;34m.github\u001b[0m                  _config.yml      \u001b[01;34massets\u001b[0m\n",
      ".gitignore               \u001b[01;34m_fastpages_docs\u001b[0m  \u001b[01;32mdocker-compose.yml\u001b[0m\n",
      "\u001b[01;35m2022-05-15-07-21-16.png\u001b[0m  \u001b[01;34m_includes\u001b[0m        \u001b[01;34mimages\u001b[0m\n",
      "\u001b[01;35m2022-05-15-07-24-25.png\u001b[0m  \u001b[01;34m_layouts\u001b[0m         index.html\n",
      "\u001b[01;35m2022-05-15-07-25-15.png\u001b[0m  \u001b[01;34m_notebooks\u001b[0m\n",
      "\n",
      "list all files in long format\n",
      "total 488\n",
      "drwxr-xr-x 16 haeryny haeryny   4096 Aug 23 13:42 \u001b[0m\u001b[01;34m.\u001b[0m\n",
      "drwxr-xr-x  4 haeryny haeryny   4096 Aug 23 13:42 \u001b[01;34m..\u001b[0m\n",
      "-rw-r--r--  1 haeryny haeryny    420 Aug 23 13:42 .devcontainer.json\n",
      "drwxr-xr-x  8 haeryny haeryny   4096 Aug 23 13:42 \u001b[01;34m.git\u001b[0m\n",
      "-rw-r--r--  1 haeryny haeryny     84 Aug 23 13:42 .gitattributes\n",
      "drwxr-xr-x  4 haeryny haeryny   4096 Aug 23 13:42 \u001b[01;34m.github\u001b[0m\n",
      "-rw-r--r--  1 haeryny haeryny    161 Aug 23 13:42 .gitignore\n",
      "-rw-r--r--  1 haeryny haeryny 207007 Aug 23 13:42 \u001b[01;35m2022-05-15-07-21-16.png\u001b[0m\n",
      "-rw-r--r--  1 haeryny haeryny  90979 Aug 23 13:42 \u001b[01;35m2022-05-15-07-24-25.png\u001b[0m\n",
      "-rw-r--r--  1 haeryny haeryny  81691 Aug 23 13:42 \u001b[01;35m2022-05-15-07-25-15.png\u001b[0m\n",
      "-rwxr-xr-x  1 haeryny haeryny   1304 Aug 23 13:42 \u001b[01;32mGemfile\u001b[0m\n",
      "-rw-r--r--  1 haeryny haeryny  11351 Aug 23 13:42 LICENSE\n",
      "-rwxr-xr-x  1 haeryny haeryny   1422 Aug 23 13:42 \u001b[01;32mMakefile\u001b[0m\n",
      "-rwxr-xr-x  1 haeryny haeryny   3593 Aug 23 13:42 \u001b[01;32mREADME.md\u001b[0m\n",
      "drwxr-xr-x  2 haeryny haeryny   4096 Aug 23 13:42 \u001b[01;34m_action_files\u001b[0m\n",
      "-rw-r--r--  1 haeryny haeryny   3619 Aug 23 13:42 _config.yml\n",
      "drwxr-xr-x  2 haeryny haeryny   4096 Aug 23 13:42 \u001b[01;34m_fastpages_docs\u001b[0m\n",
      "drwxr-xr-x  2 haeryny haeryny   4096 Aug 23 13:42 \u001b[01;34m_includes\u001b[0m\n",
      "drwxr-xr-x  2 haeryny haeryny   4096 Aug 23 13:42 \u001b[01;34m_layouts\u001b[0m\n",
      "drwxr-xr-x  5 haeryny haeryny   4096 Aug 24 10:39 \u001b[01;34m_notebooks\u001b[0m\n",
      "drwxr-xr-x  2 haeryny haeryny   4096 Aug 23 13:42 \u001b[01;34m_pages\u001b[0m\n",
      "drwxr-xr-x  2 haeryny haeryny   4096 Aug 23 13:42 \u001b[01;34m_plugins\u001b[0m\n",
      "drwxr-xr-x  2 haeryny haeryny   4096 Aug 23 13:42 \u001b[01;34m_posts\u001b[0m\n",
      "drwxr-xr-x  3 haeryny haeryny   4096 Aug 23 13:42 \u001b[01;34m_sass\u001b[0m\n",
      "drwxr-xr-x  2 haeryny haeryny   4096 Aug 23 13:42 \u001b[01;34m_word\u001b[0m\n",
      "drwxr-xr-x  4 haeryny haeryny   4096 Aug 23 13:42 \u001b[01;34massets\u001b[0m\n",
      "-rwxr-xr-x  1 haeryny haeryny   1136 Aug 23 13:42 \u001b[01;32mdocker-compose.yml\u001b[0m\n",
      "drwxr-xr-x  3 haeryny haeryny   4096 Aug 23 13:42 \u001b[01;34mimages\u001b[0m\n",
      "-rw-r--r--  1 haeryny haeryny     99 Aug 23 13:42 index.html\n"
     ]
    }
   ],
=======
   "execution_count": null,
   "metadata": {
    "vscode": {
     "languageId": "shellscript"
    }
   },
   "outputs": [],
>>>>>>> 9788545c6d8b28424bfdfdf4cc295f1d39ea40c0
   "source": [
    "echo \"Navigate to project, then navigate to area wwhere files were cloned\"\n",
    "cd $project\n",
    "pwd\n",
    "\n",
    "echo \"\"\n",
    "echo \"list top level or root of files with project pulled from github\"\n",
    "ls\n",
    "\n",
    "echo \"\"\n",
    "echo \"list again with hidden files pulled from github\"\n",
    "ls -a   \n",
    "\n",
    "echo \"\"\n",
    "echo \"list all files in long format\"\n",
    "ls -al   "
   ]
  },
  {
   "cell_type": "code",
<<<<<<< HEAD
   "execution_count": 5,
   "id": "3f5fb782",
   "metadata": {},
   "outputs": [
    {
     "name": "stdout",
     "output_type": "stream",
     "text": [
      "Look for posts\n",
      "/home/haeryny/vscode/yuyuyu/_posts\n",
      "total 8\n",
      "-rw-r--r-- 1 haeryny haeryny 260 Aug 23 13:42 2022-08-22-My-First-Post.md\n",
      "-rw-r--r-- 1 haeryny haeryny 720 Aug 23 13:42 README.md\n"
     ]
    }
   ],
=======
   "execution_count": null,
   "metadata": {
    "vscode": {
     "languageId": "shellscript"
    }
   },
   "outputs": [],
>>>>>>> 9788545c6d8b28424bfdfdf4cc295f1d39ea40c0
   "source": [
    "echo \"Look for posts\"\n",
    "export posts=$project/_posts  \n",
    "cd $posts  \n",
    "pwd  \n",
    "ls -l  "
   ]
  },
  {
   "cell_type": "code",
<<<<<<< HEAD
   "execution_count": 6,
   "id": "cde8efb6",
   "metadata": {},
   "outputs": [
    {
     "name": "stdout",
     "output_type": "stream",
     "text": [
      "Look for notebooks\n",
      "/home/haeryny/vscode/yuyuyu/_notebooks\n",
      "total 24\n",
      "-rw-r--r-- 1 haeryny haeryny 1176 Aug 23 22:37 2022-08-22-My-First-Notebook.ipynb\n",
      "-rw-r--r-- 1 haeryny haeryny 5778 Aug 24 10:39 2022-08-23-Bash-1.ipynb\n",
      "-rw-r--r-- 1 haeryny haeryny  771 Aug 23 13:42 README.md\n",
      "drwxr-xr-x 2 haeryny haeryny 4096 Aug 23 13:42 \u001b[0m\u001b[01;34mghtop_images\u001b[0m\n",
      "drwxr-xr-x 2 haeryny haeryny 4096 Aug 23 13:42 \u001b[01;34mmy_icons\u001b[0m\n"
     ]
    }
   ],
=======
   "execution_count": null,
   "metadata": {
    "vscode": {
     "languageId": "shellscript"
    }
   },
   "outputs": [],
>>>>>>> 9788545c6d8b28424bfdfdf4cc295f1d39ea40c0
   "source": [
    "echo \"Look for notebooks\"\n",
    "export notebooks=$project/_notebooks  \n",
    "cd $notebooks   \n",
    "pwd \n",
    "ls -l  "
   ]
  },
  {
   "cell_type": "code",
<<<<<<< HEAD
   "execution_count": 7,
   "id": "7b69cd0c",
   "metadata": {},
   "outputs": [
    {
     "name": "stdout",
     "output_type": "stream",
     "text": [
      "Look for images in notebooks, print working directory, list files\n",
      "bash: cd: /home/haeryny/vscode/yuyuyu/_notebooks/images: No such file or directory\n",
      "/home/haeryny/vscode/yuyuyu/_notebooks\n",
      "total 24\n",
      "-rw-r--r-- 1 haeryny haeryny 1176 Aug 23 22:37 2022-08-22-My-First-Notebook.ipynb\n",
      "-rw-r--r-- 1 haeryny haeryny 5778 Aug 24 10:39 2022-08-23-Bash-1.ipynb\n",
      "-rw-r--r-- 1 haeryny haeryny  771 Aug 23 13:42 README.md\n",
      "drwxr-xr-x 2 haeryny haeryny 4096 Aug 23 13:42 \u001b[0m\u001b[01;34mghtop_images\u001b[0m\n",
      "drwxr-xr-x 2 haeryny haeryny 4096 Aug 23 13:42 \u001b[01;34mmy_icons\u001b[0m\n"
     ]
    }
   ],
=======
   "execution_count": null,
   "metadata": {
    "vscode": {
     "languageId": "shellscript"
    }
   },
   "outputs": [],
>>>>>>> 9788545c6d8b28424bfdfdf4cc295f1d39ea40c0
   "source": [
    "echo \"Look for images in notebooks, print working directory, list files\"\n",
    "cd $notebooks/images  \n",
    "pwd\n",
    "ls -l"
   ]
<<<<<<< HEAD
=======
  },
  {
   "cell_type": "code",
   "execution_count": null,
   "metadata": {},
   "outputs": [],
   "source": [
    "echo \"Hello\""
   ]
>>>>>>> 9788545c6d8b28424bfdfdf4cc295f1d39ea40c0
  }
 ],
 "metadata": {
  "kernelspec": {
   "display_name": "Bash",
   "language": "bash",
   "name": "bash"
  },
  "language_info": {
<<<<<<< HEAD
   "codemirror_mode": "shell",
   "file_extension": ".sh",
   "mimetype": "text/x-sh",
   "name": "bash"
  }
 },
 "nbformat": 4,
 "nbformat_minor": 5
=======
   "name": "bash",
   "version": "3.10.5"
  },
  "vscode": {
   "interpreter": {
    "hash": "e2816ad6b62e39a37b096b0bd00603b20bc3fa6fcb503e0b2256660ce7b6f8bf"
   }
  }
 },
 "nbformat": 4,
 "nbformat_minor": 2
>>>>>>> 9788545c6d8b28424bfdfdf4cc295f1d39ea40c0
}
