{
 "cells": [
  {
   "cell_type": "markdown",
   "metadata": {},
   "source": [
    "# Bash\n",
    "> Bash Programming\n",
    "\n",
    "- toc: true \n",
    "- badges: true\n",
    "- comments: true\n",
    "- sticky_rank: 1\n",
    "- author: Haeryn Yu\n",
    "- image: images/diagram.png\n",
    "- categories: [fastpages, jupyter]"
   ]
  },
  {
   "cell_type": "code",
   "execution_count": 1,
   "metadata": {
    "vscode": {
     "languageId": "shellscript"
    }
   },
   "outputs": [
    {
     "name": "stdout",
     "output_type": "stream",
     "text": [
      "Using conditional statement to create a project directory and project\n",
      "Directory /home/haeryny/vscode exists.\n",
      "Directory /home/haeryny/vscode/APCSP exists.\n"
     ]
    }
   ],
   "source": [
    "echo \"Using conditional statement to create a project directory and project\"\n",
    "\n",
    "# Variable section\n",
    "export project_dir=$HOME/vscode  # change vscode to different name to test git clone\n",
    "export project=$project_dir/APCSP  # change APCSP to name of project from git clone\n",
    "export project_repo=\"https://github.com/nighthawkcoders/APCSP.git\"  # change to project of choice\n",
    "\n",
    "cd ~    # start in home directory\n",
    "\n",
    "# Conditional block to make a project directory\n",
    "if [ ! -d $project_dir ]\n",
    "then \n",
    "    echo \"Directory $project_dir does not exists... makinng directory $project_dir\"\n",
    "    mkdir -p $project_dir\n",
    "fi\n",
    "echo \"Directory $project_dir exists.\" \n",
    "\n",
    "# Conditional block to git clone a project from project_repo\n",
    "if [ ! -d $project ]\n",
    "then\n",
    "    echo \"Directory $project does not exists... cloning $project_repo\"\n",
    "    cd $project_dir\n",
    "    git clone $project_repo\n",
    "    cd ~\n",
    "fi\n",
    "echo \"Directory $project exists.\""
   ]
  },
  {
   "cell_type": "code",
   "execution_count": 2,
   "metadata": {
    "vscode": {
     "languageId": "shellscript"
    }
   },
   "outputs": [
    {
     "name": "stdout",
     "output_type": "stream",
     "text": [
      "Navigate to project, then navigate to area wwhere files were cloned\n",
      "/home/haeryny/vscode/APCSP\n",
      "\n",
      "list top level or root of files with project pulled from github\n",
      "\u001b[0m\u001b[01;32mGemfile\u001b[0m    \u001b[01;34m_action_files\u001b[0m    \u001b[01;34m_layouts\u001b[0m    \u001b[01;34m_posts\u001b[0m  \u001b[01;32mdocker-compose.yml\u001b[0m\n",
      "LICENSE    _config.yml      \u001b[01;34m_notebooks\u001b[0m  \u001b[01;34m_sass\u001b[0m   \u001b[01;34mimages\u001b[0m\n",
      "\u001b[01;32mMakefile\u001b[0m   \u001b[01;34m_fastpages_docs\u001b[0m  \u001b[01;34m_pages\u001b[0m      \u001b[01;34m_word\u001b[0m   index.html\n",
      "\u001b[01;32mREADME.md\u001b[0m  \u001b[01;34m_includes\u001b[0m        \u001b[01;34m_plugins\u001b[0m    \u001b[01;34massets\u001b[0m  \u001b[01;34mpython\u001b[0m\n",
      "\n",
      "list again with hidden files pulled from github\n",
      "\u001b[0m\u001b[01;34m.\u001b[0m                   .gitignore  \u001b[01;34m_action_files\u001b[0m    \u001b[01;34m_pages\u001b[0m    \u001b[01;32mdocker-compose.yml\u001b[0m\n",
      "\u001b[01;34m..\u001b[0m                  \u001b[01;34m.vscode\u001b[0m     _config.yml      \u001b[01;34m_plugins\u001b[0m  \u001b[01;34mimages\u001b[0m\n",
      ".devcontainer.json  \u001b[01;32mGemfile\u001b[0m     \u001b[01;34m_fastpages_docs\u001b[0m  \u001b[01;34m_posts\u001b[0m    index.html\n",
      "\u001b[01;34m.git\u001b[0m                LICENSE     \u001b[01;34m_includes\u001b[0m        \u001b[01;34m_sass\u001b[0m     \u001b[01;34mpython\u001b[0m\n",
      ".gitattributes      \u001b[01;32mMakefile\u001b[0m    \u001b[01;34m_layouts\u001b[0m         \u001b[01;34m_word\u001b[0m\n",
      "\u001b[01;34m.github\u001b[0m             \u001b[01;32mREADME.md\u001b[0m   \u001b[01;34m_notebooks\u001b[0m       \u001b[01;34massets\u001b[0m\n",
      "\n",
      "list all files in long format\n",
      "total 120\n",
      "drwxr-xr-x 18 haeryny haeryny  4096 Aug 23 13:41 \u001b[0m\u001b[01;34m.\u001b[0m\n",
      "drwxr-xr-x  4 haeryny haeryny  4096 Aug 23 13:42 \u001b[01;34m..\u001b[0m\n",
      "-rw-r--r--  1 haeryny haeryny   420 Aug 23 13:41 .devcontainer.json\n",
      "drwxr-xr-x  8 haeryny haeryny  4096 Aug 25 13:28 \u001b[01;34m.git\u001b[0m\n",
      "-rw-r--r--  1 haeryny haeryny    84 Aug 23 13:41 .gitattributes\n",
      "drwxr-xr-x  4 haeryny haeryny  4096 Aug 23 13:41 \u001b[01;34m.github\u001b[0m\n",
      "-rw-r--r--  1 haeryny haeryny   917 Aug 23 13:41 .gitignore\n",
      "drwxr-xr-x  2 haeryny haeryny  4096 Aug 23 13:41 \u001b[01;34m.vscode\u001b[0m\n",
      "-rwxr-xr-x  1 haeryny haeryny  1304 Aug 23 13:41 \u001b[01;32mGemfile\u001b[0m\n",
      "-rw-r--r--  1 haeryny haeryny 11351 Aug 23 13:41 LICENSE\n",
      "-rwxr-xr-x  1 haeryny haeryny  1422 Aug 23 13:41 \u001b[01;32mMakefile\u001b[0m\n",
      "-rwxr-xr-x  1 haeryny haeryny  3614 Aug 23 13:41 \u001b[01;32mREADME.md\u001b[0m\n",
      "drwxr-xr-x  2 haeryny haeryny  4096 Aug 23 13:41 \u001b[01;34m_action_files\u001b[0m\n",
      "-rw-r--r--  1 haeryny haeryny  3716 Aug 23 13:41 _config.yml\n",
      "drwxr-xr-x  2 haeryny haeryny  4096 Aug 23 13:41 \u001b[01;34m_fastpages_docs\u001b[0m\n",
      "drwxr-xr-x  2 haeryny haeryny  4096 Aug 23 13:41 \u001b[01;34m_includes\u001b[0m\n",
      "drwxr-xr-x  2 haeryny haeryny  4096 Aug 23 13:41 \u001b[01;34m_layouts\u001b[0m\n",
      "drwxr-xr-x  4 haeryny haeryny  4096 Aug 25 13:28 \u001b[01;34m_notebooks\u001b[0m\n",
      "drwxr-xr-x  2 haeryny haeryny  4096 Aug 23 13:41 \u001b[01;34m_pages\u001b[0m\n",
      "drwxr-xr-x  2 haeryny haeryny  4096 Aug 23 13:41 \u001b[01;34m_plugins\u001b[0m\n",
      "drwxr-xr-x  2 haeryny haeryny  4096 Aug 23 13:41 \u001b[01;34m_posts\u001b[0m\n",
      "drwxr-xr-x  3 haeryny haeryny  4096 Aug 23 13:41 \u001b[01;34m_sass\u001b[0m\n",
      "drwxr-xr-x  2 haeryny haeryny  4096 Aug 23 13:41 \u001b[01;34m_word\u001b[0m\n",
      "drwxr-xr-x  4 haeryny haeryny  4096 Aug 23 13:41 \u001b[01;34massets\u001b[0m\n",
      "-rwxr-xr-x  1 haeryny haeryny  1136 Aug 23 13:41 \u001b[01;32mdocker-compose.yml\u001b[0m\n",
      "drwxr-xr-x  5 haeryny haeryny  4096 Aug 23 13:41 \u001b[01;34mimages\u001b[0m\n",
      "-rw-r--r--  1 haeryny haeryny  1061 Aug 23 13:41 index.html\n",
      "drwxr-xr-x  2 haeryny haeryny  4096 Aug 23 13:41 \u001b[01;34mpython\u001b[0m\n"
     ]
    }
   ],
   "source": [
    "echo \"Navigate to project, then navigate to area wwhere files were cloned\"\n",
    "cd $project\n",
    "pwd\n",
    "\n",
    "echo \"\"\n",
    "echo \"list top level or root of files with project pulled from github\"\n",
    "ls\n",
    "\n",
    "echo \"\"\n",
    "echo \"list again with hidden files pulled from github\"\n",
    "ls -a   # hidden files flag, many shell commands have flags\n",
    "\n",
    "echo \"\"\n",
    "echo \"list all files in long format\"\n",
    "ls -al   # all files and long listing"
   ]
  },
  {
   "cell_type": "code",
   "execution_count": 3,
   "metadata": {
    "vscode": {
     "languageId": "shellscript"
    }
   },
   "outputs": [
    {
     "name": "stdout",
     "output_type": "stream",
     "text": [
      "Look for posts\n",
      "/home/haeryny/vscode/APCSP/_posts\n",
      "total 228\n",
      "-rw-r--r-- 1 haeryny haeryny 21306 Aug 23 13:41 2022-06-01-TT160-deploy.md\n",
      "-rw-r--r-- 1 haeryny haeryny  5861 Aug 23 13:41 2022-07-07-PBL-binary.md\n",
      "-rw-r--r-- 1 haeryny haeryny  3085 Aug 23 13:41 2022-07-08-PBL-grade_calc.md\n",
      "-rw-r--r-- 1 haeryny haeryny  3698 Aug 23 13:41 2022-07-08-PBL-graph.md\n",
      "-rw-r--r-- 1 haeryny haeryny  5729 Aug 23 13:41 2022-07-08-PBL-life.md\n",
      "-rw-r--r-- 1 haeryny haeryny 14387 Aug 23 13:41 2022-07-08-PBL-snake.md\n",
      "-rw-r--r-- 1 haeryny haeryny   334 Aug 23 13:41 2022-07-10-PBL-database.md\n",
      "-rw-r--r-- 1 haeryny haeryny  2908 Aug 23 13:41 2022-07-10-PBL-jokes.md\n",
      "-rw-r--r-- 1 haeryny haeryny  4046 Aug 23 13:41 2022-07-10-PBL-rapidapi.md\n",
      "-rw-r--r-- 1 haeryny haeryny  6685 Aug 23 13:41 2022-07-19-PBL-calculator.md\n",
      "-rw-r--r-- 1 haeryny haeryny 23325 Aug 23 13:41 2022-07-25-CSP-workshop.md\n",
      "-rw-r--r-- 1 haeryny haeryny  2333 Aug 23 13:41 2022-08-15-TP000-student_score_history.md\n",
      "-rw-r--r-- 1 haeryny haeryny  4363 Aug 23 13:41 2022-08-15-TP100-pseudo_code.md\n",
      "-rw-r--r-- 1 haeryny haeryny  7968 Aug 23 13:41 2022-08-15-TR100-tool_setup.md\n",
      "-rw-r--r-- 1 haeryny haeryny 15026 Aug 23 13:41 2022-08-15-TT100-tools.md\n",
      "-rw-r--r-- 1 haeryny haeryny  5590 Aug 23 13:41 2022-08-15-TT101-vscode-wsl.md\n",
      "-rw-r--r-- 1 haeryny haeryny  2155 Aug 23 13:41 2022-08-22-TR110-intro_python.md\n",
      "-rw-r--r-- 1 haeryny haeryny  5173 Aug 23 13:41 2022-08-22-TT110-fastpages.md\n",
      "-rw-r--r-- 1 haeryny haeryny  2798 Aug 23 13:41 2022-08-22-TT110-focus.md\n",
      "-rw-r--r-- 1 haeryny haeryny  2737 Aug 23 13:41 2022-08-29-TR120-data_abstract.md\n",
      "-rw-r--r-- 1 haeryny haeryny 10683 Aug 23 13:41 2022-08-29-TT120-agile.md\n",
      "-rw-r--r-- 1 haeryny haeryny  4498 Aug 23 13:41 2022-08-29-TT120-html_fragments.md\n",
      "-rw-r--r-- 1 haeryny haeryny  9037 Aug 23 13:41 2022-09-05-TP130-create_performance_task.md\n",
      "-rw-r--r-- 1 haeryny haeryny  7753 Aug 23 13:41 2022-09-05-TP131-create-task-bria.md\n",
      "-rw-r--r-- 1 haeryny haeryny  8066 Aug 23 13:41 2022-09-05-TR130-creative_development.md\n",
      "-rw-r--r-- 1 haeryny haeryny  3520 Aug 23 13:41 2022-09-05-TT130-applab.md\n",
      "-rw-r--r-- 1 haeryny haeryny   720 Aug 23 13:41 README.md\n"
     ]
    }
   ],
   "source": [
    "echo \"Look for posts\"\n",
    "export posts=$project/_posts  # _posts inside project\n",
    "cd $posts  # this should exist per fastpages\n",
    "pwd  # present working directory\n",
    "ls -l  # list posts"
   ]
  },
  {
   "cell_type": "code",
   "execution_count": 4,
   "metadata": {
    "vscode": {
     "languageId": "shellscript"
    }
   },
   "outputs": [
    {
     "name": "stdout",
     "output_type": "stream",
     "text": [
      "Look for notebooks\n",
      "/home/haeryny/vscode/APCSP/_notebooks\n",
      "total 144\n",
      "-rw-r--r-- 1 haeryny haeryny 14243 Aug 23 13:41 2022-06-01-TT150-webapi_tutorial.ipynb\n",
      "-rw-r--r-- 1 haeryny haeryny  8653 Aug 23 13:41 2022-07-21-PBL-neo4j_intro.ipynb\n",
      "-rw-r--r-- 1 haeryny haeryny 11694 Aug 25 13:28 2022-08-22-TP110-python_hello.ipynb\n",
      "-rw-r--r-- 1 haeryny haeryny 20003 Aug 23 13:41 2022-08-22-TT110-anthony_and_sahil.ipynb\n",
      "-rw-r--r-- 1 haeryny haeryny  9525 Aug 23 13:41 2022-08-22-TT110-bash_tutorial.ipynb\n",
      "-rw-r--r-- 1 haeryny haeryny 35721 Aug 25 13:28 2022-08-25-tool_check.ipynb\n",
      "-rw-r--r-- 1 haeryny haeryny 10141 Aug 23 13:41 2022-08-29-TP120-python_lists.ipynb\n",
      "-rw-r--r-- 1 haeryny haeryny 12632 Aug 23 13:41 2022-09-05-TT130-js_tutorial.ipynb\n",
      "-rw-r--r-- 1 haeryny haeryny   771 Aug 23 13:41 README.md\n",
      "drwxr-xr-x 2 haeryny haeryny  4096 Aug 23 13:41 \u001b[0m\u001b[01;34mimages\u001b[0m\n"
     ]
    }
   ],
   "source": [
    "echo \"Look for notebooks\"\n",
    "export notebooks=$project/_notebooks  # _notebooks is inside project\n",
    "cd $notebooks   # this should exist per fastpages\n",
    "pwd  # present working directory\n",
    "ls -l  # list notebooks"
   ]
  },
  {
   "cell_type": "code",
   "execution_count": 5,
   "metadata": {
    "vscode": {
     "languageId": "shellscript"
    }
   },
   "outputs": [
    {
     "name": "stdout",
     "output_type": "stream",
     "text": [
      "Look for images in notebooks, print working directory, list files\n",
      "/home/haeryny/vscode/APCSP/_notebooks/images\n",
      "total 100\n",
      "-rw-r--r-- 1 haeryny haeryny 101617 Aug 23 13:41 \u001b[0m\u001b[01;35mkernels.png\u001b[0m\n"
     ]
    }
   ],
   "source": [
    "echo \"Look for images in notebooks, print working directory, list files\"\n",
    "cd $notebooks/images  # this should exist per fastpages\n",
    "pwd\n",
    "ls -l"
   ]
  }
 ],
 "metadata": {
  "kernelspec": {
   "display_name": "Bash",
   "language": "bash",
   "name": "bash"
  },
  "language_info": {
   "codemirror_mode": "shell",
   "file_extension": ".sh",
   "mimetype": "text/x-sh",
   "name": "bash",
   "version": "3.8.10"
  },
  "orig_nbformat": 4,
  "vscode": {
   "interpreter": {
    "hash": "916dbcbb3f70747c44a77c7bcd40155683ae19c65e1c03b4aa3499c5328201f1"
   }
  }
 },
 "nbformat": 4,
 "nbformat_minor": 2
}
