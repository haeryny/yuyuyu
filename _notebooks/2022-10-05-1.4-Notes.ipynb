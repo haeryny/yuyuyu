{
 "cells": [
  {
   "cell_type": "markdown",
   "metadata": {},
   "source": [
    "# 1.4 Notes\n",
    "> Notes on Identifying and Correcting Errors\n",
    "\n",
    "- toc: true \n",
    "- badges: true\n",
    "- comments: true\n",
    "- sticky_rank: 1\n",
    "- author: Haeryn Yu\n",
    "- image: images/diagram.png\n",
    "- categories: [fastpages, jupyter, notes, week7]"
   ]
  },
  {
   "cell_type": "markdown",
   "metadata": {},
   "source": [
    "## Video 1\n",
    "\n",
    "### Learning Objectives\n",
    "For errors in an algorithm or program, the goal is to identify the error. \n",
    "\n",
    "### Essential Knowledge\n",
    "There are four types of errors. \n",
    "- A logic error is a mistake in the algorithm or program that causes it to behave incorrectly or unexpectedly.\n",
    "- A syntax error is a mistake in the program where the rules of the programming language are not followed.\n",
    "- A run-time ero-ror is a mistake in the program that occurs during the execution of a program. Programming languages define their own runtime errors.\n",
    "- An overflow error is an error that occurs when a computer attempts to handle a number that is outside of the defined range of values.\n",
    "\n",
    "Programmers are constantly running into errors when they program.\n",
    "- In fact, it is an expectation that errors are a part of the programming process. \n",
    "- Proficient programmers can identify errors as one of the following types:\n",
    "    - Logic error\n",
    "        - this error is caused by programmer making a mistake in the algorithm, which causes the program to behave unexpectedly.\n",
    "        - For example, the following code segment is intended to display the letter grade that corresponds to a percentage\n",
    "    - Syntax error\n",
    "        - this is a mistake when a programmer makes a type or writes some code that doesn't follow the rules of the language\n",
    "        - syntax errors cause the program to fail to run/compile\n",
    "        - common examples of this are forgetting to include:\n",
    "            - colon/semicolon\n",
    "            - parenthesis\n",
    "            - curly braces\n",
    "            - indentation\n",
    "            - quotes\n",
    "            - variable definition\n",
    "    - Run-time error\n",
    "        - A run-time error is when a program fails in the midst of running \n",
    "        - This error is commonly referred to as a \"bug\"\n",
    "        - The key to identifying a run-time error is that the program runs/compiles initially, but fails and cannot complete its processes\n",
    "        - A run-time error may result from:\n",
    "            - dividing by zero\n",
    "            - inappropriately entered data type\n",
    "            - many other advanced possibilities\n",
    "    - Overflow error \n",
    "        - an overflow error is when a program is required to perform a calculation that is outside of defined range of values\n",
    "        - Due to memory allocation constraints that programming languages require, certain values are too big to calculate and/or display\n",
    "\n"
   ]
  },
  {
   "cell_type": "markdown",
   "metadata": {},
   "source": [
    "## Video 2\n",
    "\n",
    "### Learning Objectives\n",
    "For errors in an algorithm or program, the goal is to correct the error.\n",
    "\n",
    "### Essential Knowledge\n",
    "The following are effective ways to find and correct errors:\n",
    "- test cases\n",
    "- hand tracing \n",
    "- visualizations\n",
    "- debuggers\n",
    "- adding extra output statement\n",
    "\n",
    "#### What do we do once we have identified an error?\n",
    "The easiest error to correct is usually the syntax error.\n",
    "- Most integrated development environments (IDEs) display information when there is a syntax error\n",
    "- This information usually directs the programmer to the line in the program where the error has occurred\n",
    "- Sometimes the user needs to do a little digging to find the error\n",
    "The more difficult errors to find and correct are logic errors. \n",
    "- A logic error is not always immediately noticed\n",
    "- Using test cases is the first strategy programmers use to find logic errors\n",
    "- For example, the program on the next slide can be used to display a letter grade that corresponds to a percentage, but does not work correctly due to a logic error.\n",
    "\n",
    "#### The next strategy to try is hand tracing \n",
    "Hand tracing can be most useful with iteration.\n",
    "- Hand tracing is simply writing out the values of the variables within the loop as it iterates to determine if the outcome is correct\n",
    "- Hand tracing can be useful for small code segments and loops that iterate a small number of times\n",
    "- Larger code segments or loops might require a debugging program\n",
    "\n",
    "#### What did hand tracing find out?\n",
    "- Hand tracing showed us that the algorithm was actually just displaying the last time a number was less than the number after if in a list\n",
    "- What if we used {1, 4, 0, 3, 2} as our list?\n",
    "- The algorithm would have displayed 0 as the minimum\n",
    "- Hence the need for multiple, varying test cases.\n",
    "- To correct this algorithm, we would need to ask if the min < list[index] rather than list[index] < list[index+1]\n",
    "- And repeat LENGTH(list) times\n",
    "\n",
    "#### Another strategy is adding extra output statements\n",
    "- A programmer would use this strategy to help find and fix an error. \n",
    "- Once the error is corrected, the extra output statements are usually removed.\n",
    "- This has a similar effect as hand tracing, but allows the computer to do more of the work."
   ]
  },
  {
   "cell_type": "markdown",
   "metadata": {},
   "source": [
    "## Video 3\n",
    "\n",
    "### Learning Objectives\n",
    "Identify inputs and corresponding expected outputs or behaviors that can be used to check the correctness of an algorithm or program\n",
    "\n",
    "### Essential Knowledge \n",
    "- In the development process, testing uses defined inputs to ensure that an algorithm or program is producing the expected outcomes. Programmers use the results from testing to revise their algorithms or programs\n",
    "- Defined inputs used to test a program should demonstrate the different expected outcomes that are at or just beyond the extremes (minimum and maximum) of input data\n",
    "- Program requirements are needed to identify appropriate defined inputs for testing. \n",
    "\n",
    "#### When do we start testing a program?\n",
    "Programmers start testing a program at the onset of development\n",
    "- Or at least, they start thinking about testing\n",
    "- As soon as programmers determine the program specifications, they start trying to answer the question:\n",
    "    - \"How will we know if the program is working properly?\"\n",
    "\n",
    "#### Specifications influence testing\n",
    "- Recall that the program specifications list the behaviors, events, and corresponding responses/outputs the program is to support.\n",
    "- Programmers need to define inputs that will determine whether or not the program specifications are met\n",
    "\n",
    "#### How does this influence program development?\n",
    "- Once the inputs and corresponding outputs are determined, programmers test, test, and test. \n",
    "- After testing, programmers use the results the revise, refine, and improve their programs.\n",
    "- And then they test them again and again. \n",
    "- After the programmers test, then users test, and then the programmers refine even more, \n",
    "- And finally, the program is released."
   ]
  },
  {
   "cell_type": "markdown",
   "metadata": {},
   "source": [
    "## Hacks\n",
    "- What errors may arise in your project?\n",
    "\n",
    "There can be many errors in my project because I am a beginner at programming, but I believe I will have trouble with coding and have a lot of syntax errors. \n",
    "- What are some test cases that can be used?\n",
    "\n",
    "I can use hand tracing and look over everything by hand. \n",
    "- Make sure to document any bugs you encounter and how you solved the problem."
   ]
  },
  {
   "cell_type": "code",
   "execution_count": 3,
   "metadata": {},
   "outputs": [
    {
     "name": "stdout",
     "output_type": "stream",
     "text": [
      "Menu\n",
      "burger  $3.99\n",
      "fries  $1.99\n",
      "drink  $0.99\n",
      "1.99\n"
     ]
    }
   ],
   "source": [
    "# This is the challenge\n",
    "\n",
    "menu =  {\"burger\": 3.99,\n",
    "         \"fries\": 1.99,\n",
    "         \"drink\": 0.99}\n",
    "total = 0\n",
    "\n",
    "#shows the user the menu and prompts them to select an item\n",
    "print(\"Menu\")\n",
    "for k,v in menu.items():\n",
    "    print(k + \"  $\" + str(v)) #why does v have \"str\" in front of it?\n",
    "\n",
    "#ideally the code should prompt the user multiple times\n",
    "item = input(\"Please select an item from the menu\")\n",
    "\n",
    "total = menu[item]\n",
    "\n",
    "#code should add the price of the menu items selected by the user \n",
    "print(total)"
   ]
  }
 ],
 "metadata": {
  "kernelspec": {
   "display_name": "Python 3.8.10 64-bit",
   "language": "python",
   "name": "python3"
  },
  "language_info": {
   "codemirror_mode": {
    "name": "ipython",
    "version": 3
   },
   "file_extension": ".py",
   "mimetype": "text/x-python",
   "name": "python",
   "nbconvert_exporter": "python",
   "pygments_lexer": "ipython3",
   "version": "3.8.10"
  },
  "orig_nbformat": 4,
  "vscode": {
   "interpreter": {
    "hash": "916dbcbb3f70747c44a77c7bcd40155683ae19c65e1c03b4aa3499c5328201f1"
   }
  }
 },
 "nbformat": 4,
 "nbformat_minor": 2
}
