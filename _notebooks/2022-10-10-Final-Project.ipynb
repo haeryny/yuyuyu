{
 "cells": [
  {
   "cell_type": "markdown",
   "metadata": {},
   "source": [
    "# Final Project\n",
    "> The layout of my final project\n",
    "\n",
    "- toc: true \n",
    "- badges: true\n",
    "- comments: true\n",
    "- sticky_rank: 1\n",
    "- author: Haeryn Yu\n",
    "- image: images/diagram.png\n",
    "- categories: [fastpages, jupyter, week7]"
   ]
  },
  {
   "cell_type": "markdown",
   "metadata": {},
   "source": [
    "## Performance Task\n",
    "\n",
    "For my project for APCSP, I want to make a quiz through code.org that will ask the person questions about your personality and then decide a major that will fit you well. \n",
    "\n",
    "The input will change by the person's response, and based on the person's stats that will be stored in Info.dB. Then the computer will compare their results with results from three to five majors I have chosen, and using that data, the computer will assign a major to the person. \n",
    "\n",
    "## Data Abstraction\n",
    "\n",
    "The coding in this project will consist of mostly data and storing it through different types of code. I have to limit the input that a person can give, so it is easier for the code to compare it to a major that has similar data. I want to have at least 10 questions. \n",
    "\n",
    "## Managing Complexity\n",
    "\n",
    "This is still in a work in progress, but the main objective of this idea is to compare data and work similar to MBTI tests and tests that ask you questions about your personality and compare the results to a major that produced similar results. There will be two different types of data types and by comparing similar results, it will make complexity as it compares both results.\n",
    "\n",
    "## Procedural Abstraction\n",
    "\n",
    "The procedure is storing data through the person's input contributes to the results of the program (matching their personality with a major).This procedure will be named personality abstraction, and there will be multiple parameters such as whether if they are an introvert/extrovert, in what spaces they are productive, if they like working with people or not, if they lean towards stem or liberal arts, etc.\n",
    "\n",
    "## Algorithm Implementation\n",
    "\n",
    "The algorithm will be based on their personality and what choices they choose from the 10 questions. Choose MBTI, choose working personality, productivity, and receive major will be the iteration. Characteristics of certain majors will be chosen (based on the input of the person). Once this algorithm is developed, it will be thoroughly discussed.\n",
    "\n",
    "## Testing\n",
    "\n",
    "The testing will be done on video, with me explaining each section, including a written explanation on each section. \n",
    "\n"
   ]
  }
 ],
 "metadata": {
  "kernelspec": {
   "display_name": "Python 3.8.10 64-bit",
   "language": "python",
   "name": "python3"
  },
  "language_info": {
   "name": "python",
   "version": "3.8.10"
  },
  "orig_nbformat": 4,
  "vscode": {
   "interpreter": {
    "hash": "916dbcbb3f70747c44a77c7bcd40155683ae19c65e1c03b4aa3499c5328201f1"
   }
  }
 },
 "nbformat": 4,
 "nbformat_minor": 2
}
