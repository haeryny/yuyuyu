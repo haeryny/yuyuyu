{
 "cells": [
  {
   "cell_type": "markdown",
   "metadata": {},
   "source": [
    "# 1.1 Notes\n",
    "> Notes on Collaboration\n",
    "\n",
    "- toc: true \n",
    "- badges: true\n",
    "- comments: true\n",
    "- sticky_rank: 1\n",
    "- author: Haeryn Yu\n",
    "- image: images/diagram.png\n",
    "- categories: [fastpages, jupyter, notes, week4]"
   ]
  },
  {
   "cell_type": "markdown",
   "metadata": {},
   "source": [
    "## Collaboration Objectives\n",
    "\n",
    "- Explain how computing innovations are improved through collaboration\n",
    "- Demonstrate effective interpersonal skills during collaboration."
   ]
  },
  {
   "cell_type": "markdown",
   "metadata": {},
   "source": [
    "## Essential Knowledge\n",
    "\n",
    "- A computing innovation includes a program as an integral part of its function (It can physical, nonphysical computing software, or a nonphysical computing concept).\n",
    "- Effective collaboration produces a computing innovation that reflects the diversity of talents and perspectives of those who designed it and helps avoid bias in the development.\n",
    "- Communication, Consensus Building, Conflict Resolution, Negotiation.\n",
    "- Consultation and communication with users are important aspects of the development of computing innovations.\n",
    "- Information gathered from potential users can be used to understand the purpose of a program from diverse perspectives and to develop a program that fully incorporates these perspectives."
   ]
  },
  {
   "cell_type": "markdown",
   "metadata": {},
   "source": [
    "### Examples\n",
    "- Facebook\n",
    "    - Is an example of how effective collaboration produces a computing innovation that shows diversity in talents and perspectives. \n",
    "- Super Mario Brothers 2 vs. Super Mario Brothers 3\n",
    "    - Super Mario Brothers 3 compared to Super Mario Brothers 2 was better because of effective collaboration. \n",
    "- Pair Programming, Think-Pair-Share are ways to collaborate together.\n",
    "- Leave comments in code help with collaboration\n"
   ]
  },
  {
   "cell_type": "markdown",
   "metadata": {},
   "source": [
    "### Questions\n",
    "\n",
    "- Is my group setup strictly on the basis of current friends and common interests?\n",
    "    - My group is Liav, Sophia, and Annika. We all have different interests to sports, arts, and other classes. However, we all bond over the interest of computer science. \n",
    "- Is my group setup with diversity in backgrounds, gender, and perspectives?\n",
    "    - Yes, Liav is Israeli, Sophia is Chinese, and Annika is Taiwanese so we all have different backgrounds, gender, and perspectives. \n",
    "- Is my group best equipped for the skill sets needed for success in classroom?\n",
    "    - Yes, we are all collaborative and hard-working people who can work together well for success in the classroom. "
   ]
  }
 ],
 "metadata": {
  "kernelspec": {
   "display_name": "Python 3.8.10 64-bit",
   "language": "python",
   "name": "python3"
  },
  "language_info": {
   "name": "python",
   "version": "3.8.10"
  },
  "orig_nbformat": 4,
  "vscode": {
   "interpreter": {
    "hash": "916dbcbb3f70747c44a77c7bcd40155683ae19c65e1c03b4aa3499c5328201f1"
   }
  }
 },
 "nbformat": 4,
 "nbformat_minor": 2
}
