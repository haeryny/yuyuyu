{
 "cells": [
  {
   "cell_type": "markdown",
   "metadata": {},
   "source": [
    "# Python List Notes\n",
    "> Notes on lists, iterations, and loops. \n",
    "\n",
    "- toc: true \n",
    "- badges: true\n",
    "- comments: true\n",
    "- sticky_rank: 1\n",
    "- author: Haeryn Yu\n",
    "- image: images/diagram.png\n",
    "- categories: [fastpages, jupyter, notes]"
   ]
  },
  {
   "cell_type": "markdown",
   "metadata": {},
   "source": [
    "### List and Dictionary purpose\n",
    "\n",
    "- List is used to collect many\n",
    "- Dictionary is used to define data patterns.\n",
    "- Iteration is often used to process through lists.\n",
    "- A 'list' data type has the method '.append(expression)' that allows you to add to the list\n",
    "- The function '.append(expression)' of a 'list' data type lets you to add to the list. \n"
   ]
  },
  {
   "cell_type": "markdown",
   "metadata": {},
   "source": [
    "So I will use the InfoDb command to sort the important dates for class. "
   ]
  },
  {
   "cell_type": "code",
   "execution_count": 19,
   "metadata": {},
   "outputs": [
    {
     "name": "stdout",
     "output_type": "stream",
     "text": [
      "[{'ClassName': 'AP Chemistry', 'Period': '2', 'TypeOfTest': 'FRQ', 'Date': '9/7/22', 'StudyMaterial': 'AP Style Test Problems', 'TeacherEmail': 'kozuna@powayusd.com'}, {'ClassName': 'AP Calculus', 'Period': '3', 'TypeOfTest': 'MC and FRQ', 'Date': '9/9/22', 'StudyMaterial': 'Review Homework', 'TeacherEmail': 'jbuehler@powayusd.com'}, {'ClassName': 'AP Studio Art', 'Period': '1', 'TypeOfTest': 'Submission of Art', 'Date': '9/1/22', 'StudyMaterial': 'Finish First Art Piece', 'TeacherEmail': 'pcoleman@powayusd.com'}, {'ClassName': 'AP CompSci', 'Period': '4', 'TypeOfTest': 'Submission of Hacks', 'Date': '9/5/22', 'StudyMaterial': 'Finish Hacks at bottom page', 'TeacherEmail': 'syeung@powayusd.com'}]\n"
     ]
    }
   ],
   "source": [
    "# Define an empty List called InfoDb\n",
    "InfoDb = []\n",
    "\n",
    "# Append to List a Dictionary\n",
    "InfoDb.append({\n",
    "    \"ClassName\": \"AP Chemistry\",\n",
    "    \"Period\": \"2\",\n",
    "    \"TypeOfTest\": \"FRQ\",\n",
    "    \"Date\": \"9/7/22\",\n",
    "    \"StudyMaterial\": \"AP Style Test Problems\",\n",
    "    \"TeacherEmail\": \"kozuna@powayusd.com\",\n",
    "})\n",
    "\n",
    "# Append to List a 2nd Dictionary of key/values\n",
    "InfoDb.append({\n",
    "    \"ClassName\": \"AP Calculus\",\n",
    "    \"Period\": \"3\",\n",
    "    \"TypeOfTest\": \"MC and FRQ\",\n",
    "    \"Date\": \"9/9/22\",\n",
    "    \"StudyMaterial\": \"Review Homework\",\n",
    "    \"TeacherEmail\": \"jbuehler@powayusd.com\",\n",
    "})\n",
    "\n",
    "# Append to List a 3rd Dictionary of key/values\n",
    "InfoDb.append({\n",
    "    \"ClassName\": \"AP Studio Art\",\n",
    "    \"Period\": \"1\",\n",
    "    \"TypeOfTest\": \"Submission of Art\",\n",
    "    \"Date\": \"9/1/22\",\n",
    "    \"StudyMaterial\": \"Finish First Art Piece\",\n",
    "    \"TeacherEmail\": \"pcoleman@powayusd.com\",\n",
    "})\n",
    "\n",
    "# Append to List a 4th Dictionary of key/values\n",
    "InfoDb.append({\n",
    "    \"ClassName\": \"AP CompSci\",\n",
    "    \"Period\": \"4\",\n",
    "    \"TypeOfTest\": \"Submission of Hacks\",\n",
    "    \"Date\": \"9/5/22\",\n",
    "    \"StudyMaterial\": \"Finish Hacks at bottom page\",\n",
    "    \"TeacherEmail\": \"syeung@powayusd.com\",\n",
    "})\n",
    "\n",
    "# Print the data structure\n",
    "print(InfoDb)"
   ]
  },
  {
   "cell_type": "markdown",
   "metadata": {},
   "source": [
    "This is the for loop, which is a loop that can be used for lists. I personally find this loop the easiest to use. "
   ]
  },
  {
   "cell_type": "code",
   "execution_count": 20,
   "metadata": {},
   "outputs": [
    {
     "name": "stdout",
     "output_type": "stream",
     "text": [
      "For loop output\n",
      "\n",
      "AP Chemistry Period: 2\n",
      "\t Type Of Test: FRQ\n",
      "\t Date: 9/7/22\n",
      "\t Study Material: AP Style Test Problems\n",
      "\t Teacher Email: kozuna@powayusd.com\n",
      "\n",
      "AP Calculus Period: 3\n",
      "\t Type Of Test: MC and FRQ\n",
      "\t Date: 9/9/22\n",
      "\t Study Material: Review Homework\n",
      "\t Teacher Email: jbuehler@powayusd.com\n",
      "\n",
      "AP Studio Art Period: 1\n",
      "\t Type Of Test: Submission of Art\n",
      "\t Date: 9/1/22\n",
      "\t Study Material: Finish First Art Piece\n",
      "\t Teacher Email: pcoleman@powayusd.com\n",
      "\n",
      "AP CompSci Period: 4\n",
      "\t Type Of Test: Submission of Hacks\n",
      "\t Date: 9/5/22\n",
      "\t Study Material: Finish Hacks at bottom page\n",
      "\t Teacher Email: syeung@powayusd.com\n",
      "\n"
     ]
    }
   ],
   "source": [
    "# given and index this will print InfoDb content\n",
    "def print_data(d_rec):\n",
    "    print(d_rec[\"ClassName\"], \"Period:\", d_rec[\"Period\"])  # using comma puts space between values\n",
    "    print(\"\\t\", \"Type Of Test:\", d_rec[\"TypeOfTest\"]) # \\t is a tab indent\n",
    "    print(\"\\t\", \"Date:\", d_rec[\"Date\"])\n",
    "    print(\"\\t\", \"Study Material:\", d_rec[\"StudyMaterial\"])\n",
    "    print(\"\\t\", \"Teacher Email:\", d_rec[\"TeacherEmail\"])\n",
    "    print()\n",
    "\n",
    "\n",
    "# for loop iterates on length of InfoDb\n",
    "def for_loop():\n",
    "    print(\"For loop output\\n\")\n",
    "    for record in InfoDb:\n",
    "        print_data(record)\n",
    "\n",
    "for_loop()"
   ]
  },
  {
   "cell_type": "markdown",
   "metadata": {},
   "source": [
    "## Using this information, I will make a quiz that stores in a List of Dictionaries and asking questions about the tests. "
   ]
  },
  {
   "cell_type": "code",
   "execution_count": 24,
   "metadata": {},
   "outputs": [
    {
     "name": "stdout",
     "output_type": "stream",
     "text": [
      "Hello, haeryny running /bin/python3\n",
      "This is the example questions about the dates and classes in my schedule.\n",
      "You will be asked 6 questions.\n",
      "Question: 1. Class Name?\n",
      "Question: 2. Period?\n",
      "Question: 3. Type of test?\n",
      "Question: 4. Date?\n",
      "Question: 5. Study Material\n",
      "Question: 6. Teacher Email?\n",
      "kozuna@powayusd.com is incorrect!\n",
      " you scored 6/6\n"
     ]
    }
   ],
   "source": [
    "import getpass, sys\n",
    "\n",
    "def question_with_response(prompt): \n",
    "    print(\"Question: \" + prompt)\n",
    "    msg = input()\n",
    "    return msg\n",
    "\n",
    "questions = 6\n",
    "correct = 0\n",
    "\n",
    "print('Hello, ' + getpass.getuser() + \" running \" + sys.executable)\n",
    "\n",
    "print(\"This is the example questions about the dates and classes in my schedule.\")\n",
    "\n",
    "print(\"You will be asked \" + str(questions) + \" questions.\")\n",
    "question_and_answer = (\"Are you ready to take a test?\")\n",
    "\n",
    "# Define an empty List called InfoDb\n",
    "InfoDb = []\n",
    "\n",
    "# Append to List a Dictionary\n",
    "InfoDb.append({\n",
    "    \"ClassName\": \"AP Chemistry\",\n",
    "    \"Period\": \"2\",\n",
    "    \"TypeOfTest\": \"FRQ\",\n",
    "    \"Date\": \"9/7/22\",\n",
    "    \"StudyMaterial\": \"AP Style Test Problems\",\n",
    "    \"TeacherEmail\": \"kozuna@powayusd.com\",\n",
    "})\n",
    "\n",
    "#I am using the for loop\n",
    "for i in range(0, 6):\n",
    "    rsp = question_with_response(questionsType[i])\n",
    "    if rsp == answersType[i]:\n",
    "        print(rsp + \" is correct!\")\n",
    "    correct += 1\n",
    "else:\n",
    "    print(rsp + \" is incorrect!\")\n",
    "\n",
    "questionsType = [\"1. Class Name?\", \"2. Period?\", \"3. Type of test?\", \"4. Date?\", \"5. Study Material\", \"6. Teacher Email?\"]\n",
    "answersType = [\"AP Chemistry\", \"2\", \"FRQ\", \"9/7/22\", \"AP Style Test Problems\", \"kozuna@powayusd.com\"]\n",
    "\n",
    "\n",
    "#This calculates and tells you your score. \n",
    "print(\" you scored \" + str(correct) +\"/\" + str(questions))"
   ]
  }
 ],
 "metadata": {
  "kernelspec": {
   "display_name": "Python 3.8.10 64-bit",
   "language": "python",
   "name": "python3"
  },
  "language_info": {
   "codemirror_mode": {
    "name": "ipython",
    "version": 3
   },
   "file_extension": ".py",
   "mimetype": "text/x-python",
   "name": "python",
   "nbconvert_exporter": "python",
   "pygments_lexer": "ipython3",
   "version": "3.8.10"
  },
  "orig_nbformat": 4,
  "vscode": {
   "interpreter": {
    "hash": "916dbcbb3f70747c44a77c7bcd40155683ae19c65e1c03b4aa3499c5328201f1"
   }
  }
 },
 "nbformat": 4,
 "nbformat_minor": 2
}
