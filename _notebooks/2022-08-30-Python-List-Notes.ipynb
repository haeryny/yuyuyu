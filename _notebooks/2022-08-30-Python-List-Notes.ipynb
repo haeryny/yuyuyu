{
 "cells": [
  {
   "cell_type": "markdown",
   "metadata": {},
   "source": [
    "# Python List Notes\n",
    "> Notes on lists, iterations, and loops. \n",
    "\n",
    "- toc: true \n",
    "- badges: true\n",
    "- comments: true\n",
    "- sticky_rank: 1\n",
    "- author: Haeryn Yu\n",
    "- image: images/diagram.png\n",
    "- categories: [fastpages, jupyter, notes, week2]"
   ]
  },
  {
   "cell_type": "markdown",
   "metadata": {},
   "source": [
    "### List and Dictionary purpose\n",
    "\n",
    "- List is used to collect many\n",
    "- Dictionary is used to define data patterns.\n",
    "- Iteration is often used to process through lists.\n",
    "- A 'list' data type has the method '.append(expression)' that allows you to add to the list\n",
    "- The function '.append(expression)' of a 'list' data type lets you to add to the list. \n"
   ]
  },
  {
   "cell_type": "markdown",
   "metadata": {},
   "source": [
    "So I will use the InfoDb command to sort the important dates for class. "
   ]
  },
  {
   "cell_type": "code",
   "execution_count": 19,
   "metadata": {},
   "outputs": [
    {
     "name": "stdout",
     "output_type": "stream",
     "text": [
      "[{'ClassName': 'AP Chemistry', 'Period': '2', 'TypeOfTest': 'FRQ', 'Date': '9/7/22', 'StudyMaterial': 'AP Style Test Problems', 'TeacherEmail': 'kozuna@powayusd.com'}, {'ClassName': 'AP Calculus', 'Period': '3', 'TypeOfTest': 'MC and FRQ', 'Date': '9/9/22', 'StudyMaterial': 'Review Homework', 'TeacherEmail': 'jbuehler@powayusd.com'}, {'ClassName': 'AP Studio Art', 'Period': '1', 'TypeOfTest': 'Submission of Art', 'Date': '9/1/22', 'StudyMaterial': 'Finish First Art Piece', 'TeacherEmail': 'pcoleman@powayusd.com'}, {'ClassName': 'AP CompSci', 'Period': '4', 'TypeOfTest': 'Submission of Hacks', 'Date': '9/5/22', 'StudyMaterial': 'Finish Hacks at bottom page', 'TeacherEmail': 'syeung@powayusd.com'}]\n"
     ]
    }
   ],
   "source": [
    "# Define an empty List called InfoDb\n",
    "InfoDb = []\n",
    "\n",
    "# Append to List a Dictionary\n",
    "InfoDb.append({\n",
    "    \"ClassName\": \"AP Chemistry\",\n",
    "    \"Period\": \"2\",\n",
    "    \"TypeOfTest\": \"FRQ\",\n",
    "    \"Date\": \"9/7/22\",\n",
    "    \"StudyMaterial\": \"AP Style Test Problems\",\n",
    "    \"TeacherEmail\": \"kozuna@powayusd.com\",\n",
    "})\n",
    "\n",
    "# Append to List a 2nd Dictionary of key/values\n",
    "InfoDb.append({\n",
    "    \"ClassName\": \"AP Calculus\",\n",
    "    \"Period\": \"3\",\n",
    "    \"TypeOfTest\": \"MC and FRQ\",\n",
    "    \"Date\": \"9/9/22\",\n",
    "    \"StudyMaterial\": \"Review Homework\",\n",
    "    \"TeacherEmail\": \"jbuehler@powayusd.com\",\n",
    "})\n",
    "\n",
    "# Append to List a 3rd Dictionary of key/values\n",
    "InfoDb.append({\n",
    "    \"ClassName\": \"AP Studio Art\",\n",
    "    \"Period\": \"1\",\n",
    "    \"TypeOfTest\": \"Submission of Art\",\n",
    "    \"Date\": \"9/1/22\",\n",
    "    \"StudyMaterial\": \"Finish First Art Piece\",\n",
    "    \"TeacherEmail\": \"pcoleman@powayusd.com\",\n",
    "})\n",
    "\n",
    "# Append to List a 4th Dictionary of key/values\n",
    "InfoDb.append({\n",
    "    \"ClassName\": \"AP CompSci\",\n",
    "    \"Period\": \"4\",\n",
    "    \"TypeOfTest\": \"Submission of Hacks\",\n",
    "    \"Date\": \"9/5/22\",\n",
    "    \"StudyMaterial\": \"Finish Hacks at bottom page\",\n",
    "    \"TeacherEmail\": \"syeung@powayusd.com\",\n",
    "})\n",
    "\n",
    "# Print the data structure\n",
    "print(InfoDb)"
   ]
  },
  {
   "cell_type": "markdown",
   "metadata": {},
   "source": [
    "This is the for loop, which is a loop that can be used for lists. I personally find this loop the easiest to use. "
   ]
  },
  {
   "cell_type": "code",
   "execution_count": 20,
   "metadata": {},
   "outputs": [
    {
     "name": "stdout",
     "output_type": "stream",
     "text": [
      "For loop output\n",
      "\n",
      "AP Chemistry Period: 2\n",
      "\t Type Of Test: FRQ\n",
      "\t Date: 9/7/22\n",
      "\t Study Material: AP Style Test Problems\n",
      "\t Teacher Email: kozuna@powayusd.com\n",
      "\n",
      "AP Calculus Period: 3\n",
      "\t Type Of Test: MC and FRQ\n",
      "\t Date: 9/9/22\n",
      "\t Study Material: Review Homework\n",
      "\t Teacher Email: jbuehler@powayusd.com\n",
      "\n",
      "AP Studio Art Period: 1\n",
      "\t Type Of Test: Submission of Art\n",
      "\t Date: 9/1/22\n",
      "\t Study Material: Finish First Art Piece\n",
      "\t Teacher Email: pcoleman@powayusd.com\n",
      "\n",
      "AP CompSci Period: 4\n",
      "\t Type Of Test: Submission of Hacks\n",
      "\t Date: 9/5/22\n",
      "\t Study Material: Finish Hacks at bottom page\n",
      "\t Teacher Email: syeung@powayusd.com\n",
      "\n"
     ]
    }
   ],
   "source": [
    "# given and index this will print InfoDb content\n",
    "def print_data(d_rec):\n",
    "    print(d_rec[\"ClassName\"], \"Period:\", d_rec[\"Period\"])  # using comma puts space between values\n",
    "    print(\"\\t\", \"Type Of Test:\", d_rec[\"TypeOfTest\"]) # \\t is a tab indent\n",
    "    print(\"\\t\", \"Date:\", d_rec[\"Date\"])\n",
    "    print(\"\\t\", \"Study Material:\", d_rec[\"StudyMaterial\"])\n",
    "    print(\"\\t\", \"Teacher Email:\", d_rec[\"TeacherEmail\"])\n",
    "    print()\n",
    "\n",
    "\n",
    "# for loop iterates on length of InfoDb\n",
    "def for_loop():\n",
    "    print(\"For loop output\\n\")\n",
    "    for record in InfoDb:\n",
    "        print_data(record)\n",
    "\n",
    "for_loop()"
   ]
  },
  {
   "cell_type": "markdown",
   "metadata": {},
   "source": [
    "## Using this information, I will make a quiz that stores in a List of Dictionaries and asking questions about you! "
   ]
  },
  {
   "cell_type": "code",
   "execution_count": 1,
   "metadata": {},
   "outputs": [
    {
     "name": "stdout",
     "output_type": "stream",
     "text": [
      "Hi! This computer wants to know more stuff about you!\n",
      "What is your name?\n",
      "Hello Haeryn! How old are you?\n",
      "Wow you're 15! What grade are you in?\n",
      "9th grade! What is your favorite class right now?\n",
      "AP Calc! That is my favorite, too! Thanks for taking this quiz, have a nice day!\n",
      "For loop output\n",
      "\n",
      "Name: Haeryn\n",
      "Age: 15\n",
      "Grade: 9\n",
      "Favorite Class: AP Calc\n",
      "\n"
     ]
    }
   ],
   "source": [
    "InfoDb = []\n",
    "\n",
    "print(\"Hi! This computer wants to know more stuff about you!\")\n",
    "rsp = input (\"Are you ready?\")\n",
    "if rsp == \"yes\":\n",
    "    print (\"Thanks!\\n\")\n",
    "if rsp == \"no\":\n",
    "    print (\"Oh no.\\n\")\n",
    "\n",
    "print (\"What is your name?\")\n",
    "name = input ('What is your name?\\n')\n",
    "\n",
    "print (\"Hello \" + name + \"! How old are you?\")\n",
    "age = input ('How old are you?\\n')\n",
    "\n",
    "print (\"Wow you're \" + age + \"! What grade are you in?\")\n",
    "grade = input ('What grade are you in\\n')\n",
    "\n",
    "print (grade + \"th grade! What is your favorite class right now?\")\n",
    "favoriteClass = input ('What is your favorite class right now\\n')\n",
    "\n",
    "print (favoriteClass +\"! That is my favorite, too! Thanks for taking this quiz, have a nice day!\")\n",
    "\n",
    "InfoDb.append({\n",
    "    \"Name\" : name,\n",
    "    \"Age\" : age,\n",
    "    \"Grade\" : grade,\n",
    "    \"Favorite Class\" : favoriteClass,\n",
    "})\n",
    "\n",
    "def print_data(d_rec):\n",
    "    print(\"Name:\", d_rec[\"Name\"])\n",
    "    print(\"Age:\", d_rec[\"Age\"])\n",
    "    print(\"Grade:\", d_rec[\"Grade\"])\n",
    "    print(\"Favorite Class:\", d_rec[\"Favorite Class\"])\n",
    "    print()\n",
    "\n",
    "\n",
    "# for loop iterates on length of InfoDb\n",
    "def for_loop():\n",
    "    print(\"For loop output\\n\")\n",
    "    for record in InfoDb:\n",
    "        print_data(record)\n",
    "\n",
    "for_loop()\n",
    "     "
   ]
  }
 ],
 "metadata": {
  "kernelspec": {
   "display_name": "Python 3.8.10 64-bit",
   "language": "python",
   "name": "python3"
  },
  "language_info": {
   "codemirror_mode": {
    "name": "ipython",
    "version": 3
   },
   "file_extension": ".py",
   "mimetype": "text/x-python",
   "name": "python",
   "nbconvert_exporter": "python",
   "pygments_lexer": "ipython3",
   "version": "3.8.10"
  },
  "orig_nbformat": 4,
  "vscode": {
   "interpreter": {
    "hash": "916dbcbb3f70747c44a77c7bcd40155683ae19c65e1c03b4aa3499c5328201f1"
   }
  }
 },
 "nbformat": 4,
 "nbformat_minor": 2
}
