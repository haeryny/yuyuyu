{
 "cells": [
  {
   "cell_type": "markdown",
   "metadata": {},
   "source": [
    "# Video 3.5-7 Hacks\n",
    "> Hacks\n",
    "\n",
    "- toc: true\n",
    "- badges: true\n",
    "- comments: true\n",
    "- categories: [week3, notes]"
   ]
  },
  {
   "cell_type": "markdown",
   "metadata": {},
   "source": [
    "# 3.5 Hacks\n",
    "\n",
    "## Binary Practice\n",
    "Using psuedocode operators determine if the statements are true or false. The number type will be indicated in parentheses.\n",
    "\n",
    "**1. 90(D) = 1000(B)**\n",
    "\n",
    "- A. True\n",
    "\n",
    "**2. 10(D) ≠ 0110(B)**\n",
    "\n",
    "- B. False\n",
    "\n",
    "**3. 56(D) ≥ 111000(B)**\n",
    "\n",
    "- A. True\n",
    "\n",
    "**3. 99(D) < 1110011(B)**\n",
    "\n",
    "- A. True"
   ]
  },
  {
   "cell_type": "markdown",
   "metadata": {},
   "source": [
    "<html>\n",
    "<style>\n",
    "    table, th, td { \n",
    "        border:2px solid white;\n",
    "    }\n",
    "</style>\n",
    "    <div>AND Operator</div>\n",
    "    <div>\n",
    "        <table>\n",
    "            <tr>\n",
    "                <th>Value 1</th>\n",
    "                <th>Value 2</th>\n",
    "                <th>Result</th>\n",
    "            </tr>\n",
    "            <tr>\n",
    "                <td>1</td>\n",
    "                <td>0</td>\n",
    "                <td>1</td>\n",
    "            </tr>\n",
    "            <tr>\n",
    "                <td>1</td>\n",
    "                <td>0</td>\n",
    "                <td>0</td>\n",
    "            </tr>\n",
    "            <tr>\n",
    "                <td>1</td>\n",
    "                <td>1</td>\n",
    "                <td>0</td>\n",
    "            </tr>\n",
    "            <tr>\n",
    "                <td>1</td>\n",
    "                <td>0</td>\n",
    "                <td>0</td>\n",
    "            </tr>\n",
    "        </table>\n",
    "    </div>\n",
    "    <div>OR Operator</div>\n",
    "    <div>\n",
    "        <table>\n",
    "            <tr>\n",
    "                <th>Value 1</th>\n",
    "                <th>Value 2</th>\n",
    "                <th>Result</th>\n",
    "            </tr>\n",
    "            <tr>\n",
    "                <td>1</td>\n",
    "                <td>1</td>\n",
    "                <td>0</td>\n",
    "            </tr>\n",
    "            <tr>\n",
    "                <td>0</td>\n",
    "                <td>0</td>\n",
    "                <td>1</td>\n",
    "            </tr>\n",
    "            <tr>\n",
    "                <td>0</td>\n",
    "                <td>1</td>\n",
    "                <td>1</td>\n",
    "            </tr>\n",
    "            <tr>\n",
    "                <td>0</td>\n",
    "                <td>1</td>\n",
    "                <td>0</td>\n",
    "            </tr>\n",
    "        </table>\n",
    "    </div>\n",
    "    <div>Not operator</div>\n",
    "    <div>\n",
    "        <table>\n",
    "            <tr>\n",
    "                <th>Not</th>\n",
    "                <th>Value</th>\n",
    "                <th>Result</th>\n",
    "            </tr>\n",
    "            <tr>\n",
    "                <td>Not</td>\n",
    "                <td>1</td>\n",
    "                <td>0</td>\n",
    "            </tr>\n",
    "            <tr>\n",
    "                <td>Not</td>\n",
    "                <td>0</td>\n",
    "                <td>1</td>\n",
    "            </tr>\n",
    "        </table>\n",
    "    </div>\n",
    "</html>"
   ]
  },
  {
   "cell_type": "code",
   "execution_count": 2,
   "metadata": {},
   "outputs": [
    {
     "name": "stdout",
     "output_type": "stream",
     "text": [
      "True\n",
      "False\n",
      "False\n"
     ]
    }
   ],
   "source": [
    "# Testing out relational operators\n",
    "# Practice with these statements\n",
    "\n",
    "print(20 == 20) # How can you change the operator to print a value of False?\n",
    "\n",
    "x = 30\n",
    "y = 20\n",
    "z = 10\n",
    "print(x > y + z) # How can this return true by only manipulating the operator?\n",
    "\n",
    "# Manipulate the variables x, y, and z to make the below statement return true\n",
    "print(x == z)"
   ]
  },
  {
   "cell_type": "markdown",
   "metadata": {},
   "source": [
    "# 3.6 Hacks\n",
    "\n",
    "## AP Prep\n",
    "\n",
    "**1. What is displayed by this code?**\n",
    "- result <-- 75\n",
    "- IF result < 80 {\n",
    "    DISPLAY(\"Please schedule a retake.\")\n",
    "}\n",
    "- ELSE {\n",
    "    DISPLAY(\"Nice job!\")\n",
    "}\n",
    "\n",
    "1. Nice job!\n",
    "\n",
    "**2. How is an if statement different from an if-else statement.**\n",
    "\n",
    "2. An if statement will only go through a process if a condition is met. An if-else statement will go through code no matter the conditions.\n",
    "\n",
    "**3. What would be most appropriate for this situation? Ben wants to check his bank account. If his car fuel is full, he will go to the bank. Otherwise, he will go home. If he goes to the bank, he will withdraw money only if his balance is above $1000.**\n",
    "\n",
    "2. If-else statement\n",
    "\n",
    "**4. What would be most appropriate for this situation? Luke wants to play basketball. If it is sunny outside he will go to the park to play basketball.**\n",
    "\n",
    "1. If statement\n",
    "\n",
    "## Using Python"
   ]
  },
  {
   "cell_type": "code",
   "execution_count": 3,
   "metadata": {},
   "outputs": [
    {
     "name": "stdout",
     "output_type": "stream",
     "text": [
      "It lives in the desert\n",
      "tiger\n",
      "wildebeest\n",
      "Fun Fact: The smallest shark is the dwarf lantern shark, and it is small enough to hold in your hand!\n",
      "shark\n",
      "jellyfish\n",
      "blobfish\n",
      "raven\n"
     ]
    }
   ],
   "source": [
    "animals = [\"lion\", \"tiger\", \"wildebeest\", \"shark\", \"jellyfish\", \"blobfish\", \"raven\"]\n",
    "\n",
    "for i in animals:\n",
    "    if i == \"shark\": # What boolean value does this statement cause? 3\n",
    "        print(\"Fun Fact: The smallest shark is the dwarf lantern shark, and it is small enough to hold in your hand!\")\n",
    "    if i == \"lion\": # What boolean value does this statement cause? 3\n",
    "        print(\"It lives in the desert\")\n",
    "    else:\n",
    "        print(i)\n",
    "\n",
    "# Practice\n",
    "# Using only one more if statement, alter the code to print out a statement saying if an animal lives in the desert, based on booleans"
   ]
  },
  {
   "cell_type": "markdown",
   "metadata": {},
   "source": [
    "# 3.7 Hacks\n",
    "\n",
    "## Exercise 1\n",
    "- Create dictionaries for multiple food items, with the listed specifications\n",
    "    - Chicken Alfredo, Meat: Chicken, Time to Prepare: 60 minutes\n",
    "    - Cheese Quesadilla, Meat: None, Time to Prepare: 10 minutes\n",
    "    - Beef Wellington, Meat: Beef, Time to Prepare: 150 minutes\n",
    "- Used nested conditionals, determine which meal you can cook, given that a) you have no meat at home, and b) you only have 30 minutes to make the meal"
   ]
  },
  {
   "cell_type": "code",
   "execution_count": 4,
   "metadata": {},
   "outputs": [
    {
     "name": "stdout",
     "output_type": "stream",
     "text": [
      "\n",
      "Chicken Alfredo Time to Prepare: 60 minutes\n",
      "Meat: Chicken\n",
      "Cheese Quesadilla Time to Prepare: 10 minutes\n",
      "Meat: None\n",
      "Beef Wellington Time to Prepare: 150 minutes\n",
      "Meat: Beef\n"
     ]
    }
   ],
   "source": [
    "# Define an empty List called InfoDb\n",
    "InfoDb = []\n",
    "\n",
    "# Append to List a Dictionary\n",
    "InfoDb.append({\n",
    "    \"foodName\": \"Chicken Alfredo\",\n",
    "    \"meat\": \"Chicken\",\n",
    "    \"timeToPrepare\": \"60 minutes\",\n",
    "})\n",
    "\n",
    "# Append to List a 2nd Dictionary of key/values\n",
    "InfoDb.append({\n",
    "    \"foodName\": \"Cheese Quesadilla\",\n",
    "    \"meat\": \"None\",\n",
    "    \"timeToPrepare\": \"10 minutes\",\n",
    "})\n",
    "\n",
    "# Append to List a 3rd Dictionary of key/values\n",
    "InfoDb.append({\n",
    "    \"foodName\": \"Beef Wellington\",\n",
    "    \"meat\": \"Beef\",\n",
    "    \"timeToPrepare\": \"150 minutes\",\n",
    "})\n",
    "\n",
    "# given and index this will print InfoDb content\n",
    "def print_data(d_rec):\n",
    "    print(d_rec[\"foodName\"], \"Time to Prepare:\", d_rec[\"timeToPrepare\"])  # using comma puts space between values\n",
    "    print(\"Meat:\", d_rec[\"meat\"])\n",
    "\n",
    "\n",
    "# for loop iterates on length of InfoDb\n",
    "def for_loop():\n",
    "    print(\"\")\n",
    "    for record in InfoDb:\n",
    "        print_data(record)\n",
    "\n",
    "for_loop()"
   ]
  },
  {
   "cell_type": "markdown",
   "metadata": {},
   "source": [
    "## Exercise 2\n",
    "\n",
    "Make a flowchart([here](https://www.lucidchart.com/pages/examples/flowchart-maker) is one we used) and write pseudocode for the following scenario.\n",
    "- Mr. Yeung would like to grade live reviews. \n",
    "- He wants to see if each student has at least 2 issues on their project. If they don't they receive a score of 2.0.\n",
    "- If they have at least 2 issues, check that they have completed at least 5 of their scrumboard tasks.\n",
    "- If they have completed 5 scrumboard tasks, give the student a 2.7. If they have not completed 5 scrumboard tasks, give them a score of 2.5. If they have completed more than 5 tasks, give them a score of 3.0.\n",
    "- How much would a student with 3 issues and 1 complete scrumboard task receive?"
   ]
  },
  {
   "cell_type": "markdown",
   "metadata": {},
   "source": [
    "They would get 3.0."
   ]
  },
  {
   "cell_type": "markdown",
   "metadata": {},
   "source": [
    "![](flowchart.png)"
   ]
  }
 ],
 "metadata": {
  "kernelspec": {
   "display_name": "Python 3.8.10 64-bit",
   "language": "python",
   "name": "python3"
  },
  "language_info": {
   "codemirror_mode": {
    "name": "ipython",
    "version": 3
   },
   "file_extension": ".py",
   "mimetype": "text/x-python",
   "name": "python",
   "nbconvert_exporter": "python",
   "pygments_lexer": "ipython3",
   "version": "3.8.10"
  },
  "orig_nbformat": 4,
  "vscode": {
   "interpreter": {
    "hash": "916dbcbb3f70747c44a77c7bcd40155683ae19c65e1c03b4aa3499c5328201f1"
   }
  }
 },
 "nbformat": 4,
 "nbformat_minor": 2
}
