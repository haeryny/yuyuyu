{
 "cells": [
  {
   "cell_type": "markdown",
   "metadata": {},
   "source": [
    "# Agile Methodology Notes\n",
    "> Notes on Collaboration\n",
    "\n",
    "- toc: true \n",
    "- badges: true\n",
    "- comments: true\n",
    "- sticky_rank: 1\n",
    "- author: Haeryn Yu\n",
    "- image: images/diagram.png\n",
    "- categories: [fastpages, jupyter, notes, week5]"
   ]
  },
  {
   "cell_type": "markdown",
   "metadata": {},
   "source": [
    "- Creativity\n",
    "    - Solutions to problems and develop concepts\n",
    "    - Display foresight\n",
    "    - Make connections\n",
    "    - Make intelligent inferences\n",
    "    - Synthesize ideas and data\n",
    "- Critical Thinking\n",
    "    - The ability to take a step back and look at things more critically\n",
    "    - The ability to take things head on without problems\n",
    "- Communication\n",
    "    - Verbal skills\n",
    "    - Listening skills\n",
    "    - Writing skills\n",
    "    - Technological communication skills\n",
    "- Collaboration through leaderships\n",
    "    - Delegating responsibility\n",
    "    - Demonstrating effective time management\n",
    "    - Initiating new ideas\n",
    "    - Major decision-making\n",
    "    - Managing conflict\n",
    "- Collaboration - Teamwork\n",
    "    - Accepting responsibility\n",
    "    - Making important decisions"
   ]
  }
 ],
 "metadata": {
  "kernelspec": {
   "display_name": "Python 3.8.10 64-bit",
   "language": "python",
   "name": "python3"
  },
  "language_info": {
   "name": "python",
   "version": "3.8.10"
  },
  "orig_nbformat": 4,
  "vscode": {
   "interpreter": {
    "hash": "916dbcbb3f70747c44a77c7bcd40155683ae19c65e1c03b4aa3499c5328201f1"
   }
  }
 },
 "nbformat": 4,
 "nbformat_minor": 2
}
