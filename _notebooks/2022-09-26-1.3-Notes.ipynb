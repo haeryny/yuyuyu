{
 "cells": [
  {
   "cell_type": "markdown",
   "metadata": {},
   "source": [
    "# 1.3 Notes\n",
    "> Notes on Program Design and Development\n",
    "\n",
    "- toc: true \n",
    "- badges: true\n",
    "- comments: true\n",
    "- sticky_rank: 1\n",
    "- author: Haeryn Yu\n",
    "- image: images/diagram.png\n",
    "- categories: [fastpages, jupyter, notes, week6]"
   ]
  },
  {
   "cell_type": "markdown",
   "metadata": {},
   "source": [
    "# Video 1\n",
    "\n",
    "## Learning Objectives\n",
    "- Develop a program using a development process\n",
    "- Design a program and its user interface\n",
    "\n",
    "## Essential Knowledge\n",
    "- A development process can be ordered and intentional or exploratory in nature\n",
    "- There are multiple development processes. The following phrases are commonly used when developing a program:\n",
    "    - investigating and reflecting\n",
    "    - designing \n",
    "    - prototyping\n",
    "    - testing\n",
    "- A development process that is iterative requires refinement and revision based on feedback, testing, or reflection throughout the process. This may require revisiting earlier phrases of the process. \n",
    "- A development process that is incremental is one that breaks the problem into smaller pieces and makes sure each piece works before adding it to the whole.\n",
    "- The design of a program incorporates investigation to determine its requirements.\n",
    "- Investigation ina  development process is useful for understanding and identifying the program constraints, as well as the concerns and interests of the people who will use the program.\n",
    "- Some ways investigation can be performed are as follows:\n",
    "    - collecting data through surveys \n",
    "    - user testing\n",
    "    - interviews\n",
    "    - direct observations\n",
    "- Program requirements describe how a program functions and may include a description of user interactions that a program must provide.\n",
    "- A program's specification defines the requirements for the program\n",
    "- In a development process, the design phase outlines how to accomplish a given program specification\n",
    "- The design phase of a program may include:\n",
    "    - brainstorming\n",
    "    - planning and storyboarding\n",
    "    - organizing the program into modules and functional components\n",
    "    - creation of diagrams that represent the layouts of the user interface\n",
    "    - development of a testing strategy for the programs"
   ]
  }
 ],
 "metadata": {
  "kernelspec": {
   "display_name": "Python 3.8.10 64-bit",
   "language": "python",
   "name": "python3"
  },
  "language_info": {
   "name": "python",
   "version": "3.8.10"
  },
  "orig_nbformat": 4,
  "vscode": {
   "interpreter": {
    "hash": "916dbcbb3f70747c44a77c7bcd40155683ae19c65e1c03b4aa3499c5328201f1"
   }
  }
 },
 "nbformat": 4,
 "nbformat_minor": 2
}
